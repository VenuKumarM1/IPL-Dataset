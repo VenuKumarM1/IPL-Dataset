{
 "cells": [
  {
   "cell_type": "markdown",
   "id": "058dcd96",
   "metadata": {},
   "source": [
    "<h2><span style=\"color: #993300;\">Questions</span></h2>"
   ]
  },
  {
   "cell_type": "markdown",
   "id": "768db374",
   "metadata": {},
   "source": [
    "<p><strong>Match record data</strong></p>\n",
    "<ol>\n",
    "<li>Which season (year) data is considered?</li>\n",
    "<li>Season start date and end date</li>\n",
    "<li>Number of matches month wise</li>\n",
    "<li>total number of type of matches (group, qualifier, eliminator, final)</li>\n",
    "<li>Total number of matches took place</li>\n",
    "<li>venue, location</li>\n",
    "<li>venue - number of matches</li>\n",
    "<li>venue, location - number of stadium in each location</li>\n",
    "<li>Total number of teams</li>\n",
    "<li>Maximum toss won by?</li>\n",
    "<li>Toss decisions - bat/field?</li>\n",
    "<li>Most appearance of umpire (umpire 1,2, reserve umpire, match_referee)</li>\n",
    "<li>Most winner runs,</li>\n",
    "<li>Most win by wickets</li>\n",
    "<li>Most men of matches</li>\n",
    "<li>how many no-results/tied matches</li>\n",
    "</ol>"
   ]
  },
  {
   "cell_type": "markdown",
   "id": "d8dd74fb",
   "metadata": {},
   "source": [
    "<p><strong>Each ball record<br /></strong></p>\n",
    "<ol>\n",
    "<li>Total number of matches</li>\n",
    "<li>Total number of balls bowled in each match</li>\n",
    "<li>Maximum scores in each match</li>\n",
    "<li>Batsmen who faced most number of balls</li>\n",
    "<li>Bowler who bowled most number of balls</li>\n",
    "<li>opening bowlers and opening batsmen</li>\n",
    "<li>final over bowlers and batsmen</li>\n",
    "<li>Most wickets by bowler</li>\n",
    "<li>Most dismissed batsmen</li>\n",
    "<li>Most 6's, 1,2,3,4's by batsmen</li>\n",
    "<li>Most wide and no-balls by bowler</li>\n",
    "<li>most number of runs by batsmen</li>\n",
    "<li>most number of runs given by bowler</li>\n",
    "<li>calculate economy by bowler and strike rate of batsmen</li>\n",
    "<li>total runs and balls by each batsman</li>\n",
    "<li>calculate run rate and economy by overs</li>\n",
    "<li>number of wickets in each inning</li>\n",
    "<li>Fall of wickets over wise</li>\n",
    "<li>every match extras</li>\n",
    "</ol>"
   ]
  },
  {
   "cell_type": "markdown",
   "id": "4d265528",
   "metadata": {},
   "source": [
    "<h2><span style=\"color: #903300;\">Match record data</span></h2>"
   ]
  },
  {
   "cell_type": "code",
   "execution_count": 1,
   "id": "b99b648d",
   "metadata": {},
   "outputs": [
    {
     "name": "stderr",
     "output_type": "stream",
     "text": [
      "C:\\Users\\User\\anaconda3\\Lib\\site-packages\\pandas\\core\\arrays\\masked.py:60: UserWarning: Pandas requires version '1.3.6' or newer of 'bottleneck' (version '1.3.5' currently installed).\n",
      "  from pandas.core import (\n"
     ]
    }
   ],
   "source": [
    "import numpy as np\n",
    "import pandas as pd\n",
    "import matplotlib.pyplot as plt\n",
    "%matplotlib inline\n",
    "import seaborn as sns"
   ]
  },
  {
   "cell_type": "markdown",
   "id": "7175e54a",
   "metadata": {},
   "source": [
    "# Import Data"
   ]
  },
  {
   "cell_type": "code",
   "execution_count": 3,
   "id": "7555866f",
   "metadata": {},
   "outputs": [
    {
     "data": {
      "text/html": [
       "<div>\n",
       "<style scoped>\n",
       "    .dataframe tbody tr th:only-of-type {\n",
       "        vertical-align: middle;\n",
       "    }\n",
       "\n",
       "    .dataframe tbody tr th {\n",
       "        vertical-align: top;\n",
       "    }\n",
       "\n",
       "    .dataframe thead th {\n",
       "        text-align: right;\n",
       "    }\n",
       "</style>\n",
       "<table border=\"1\" class=\"dataframe\">\n",
       "  <thead>\n",
       "    <tr style=\"text-align: right;\">\n",
       "      <th></th>\n",
       "      <th>season</th>\n",
       "      <th>date</th>\n",
       "      <th>match_number</th>\n",
       "      <th>match_type</th>\n",
       "      <th>venue</th>\n",
       "      <th>location</th>\n",
       "      <th>team1</th>\n",
       "      <th>team2</th>\n",
       "      <th>toss_won</th>\n",
       "      <th>toss_decision</th>\n",
       "      <th>umpire1</th>\n",
       "      <th>umpire2</th>\n",
       "      <th>reserve_umpire</th>\n",
       "      <th>match_referee</th>\n",
       "      <th>winner</th>\n",
       "      <th>winner_runs</th>\n",
       "      <th>winner_wickets</th>\n",
       "      <th>man_of_match</th>\n",
       "    </tr>\n",
       "  </thead>\n",
       "  <tbody>\n",
       "    <tr>\n",
       "      <th>0</th>\n",
       "      <td>2023</td>\n",
       "      <td>31-03-2023</td>\n",
       "      <td>1</td>\n",
       "      <td>Group</td>\n",
       "      <td>Narendra Modi Stadium</td>\n",
       "      <td>Ahmedabad</td>\n",
       "      <td>Chennai Super Kings</td>\n",
       "      <td>Gujarat Titans</td>\n",
       "      <td>Gujarat Titans</td>\n",
       "      <td>field</td>\n",
       "      <td>Nitin Menon</td>\n",
       "      <td>HAS Khalid</td>\n",
       "      <td>A Bengeri</td>\n",
       "      <td>J Srinath</td>\n",
       "      <td>Gujarat Titans</td>\n",
       "      <td>NaN</td>\n",
       "      <td>5.0</td>\n",
       "      <td>Rashid Khan</td>\n",
       "    </tr>\n",
       "  </tbody>\n",
       "</table>\n",
       "</div>"
      ],
      "text/plain": [
       "   season        date  match_number match_type                  venue  \\\n",
       "0    2023  31-03-2023             1      Group  Narendra Modi Stadium   \n",
       "\n",
       "    location                team1           team2        toss_won  \\\n",
       "0  Ahmedabad  Chennai Super Kings  Gujarat Titans  Gujarat Titans   \n",
       "\n",
       "  toss_decision      umpire1     umpire2 reserve_umpire match_referee  \\\n",
       "0         field  Nitin Menon  HAS Khalid      A Bengeri     J Srinath   \n",
       "\n",
       "           winner  winner_runs  winner_wickets man_of_match  \n",
       "0  Gujarat Titans          NaN             5.0  Rashid Khan  "
      ]
     },
     "execution_count": 3,
     "metadata": {},
     "output_type": "execute_result"
    }
   ],
   "source": [
    "match_records = pd.read_csv(r\"C:\\Users\\User\\Documents\\Python Scripts\\IPL\\each_match_records.csv\")\n",
    "match_records.head(1)"
   ]
  },
  {
   "cell_type": "markdown",
   "id": "8b0d486e",
   "metadata": {},
   "source": [
    "## Which season (year) data is considered?"
   ]
  },
  {
   "cell_type": "code",
   "execution_count": 4,
   "id": "5e2fbf67",
   "metadata": {},
   "outputs": [
    {
     "name": "stdout",
     "output_type": "stream",
     "text": [
      "Which season (year) data is considered?\n",
      "[2023]\n"
     ]
    }
   ],
   "source": [
    "print(\"Which season (year) data is considered?\")\n",
    "print(match_records.season.unique())\n",
    "# match_records.season.unique()\n",
    "# match_records.season.max()"
   ]
  },
  {
   "cell_type": "markdown",
   "id": "e1d21ae8",
   "metadata": {},
   "source": [
    "## Match start date"
   ]
  },
  {
   "cell_type": "code",
   "execution_count": 5,
   "id": "dd6f717e",
   "metadata": {},
   "outputs": [
    {
     "name": "stdout",
     "output_type": "stream",
     "text": [
      "Season [2023] start date is: 31-03-2023\n"
     ]
    }
   ],
   "source": [
    "print(f\"Season {match_records.season.unique()} start date is: {match_records.date.max()}\")\n",
    "# match_records.date.max()"
   ]
  },
  {
   "cell_type": "markdown",
   "id": "d1f73153",
   "metadata": {},
   "source": [
    "## Match end date"
   ]
  },
  {
   "cell_type": "code",
   "execution_count": 95,
   "id": "ce07158a",
   "metadata": {},
   "outputs": [
    {
     "name": "stdout",
     "output_type": "stream",
     "text": [
      "Season [2023] end date is: 73    29-05-2023\n",
      "Name: date, dtype: object\n"
     ]
    }
   ],
   "source": [
    "print(f\"Season {match_records.season.unique()} end date is: {match_records.date.tail(1)}\")"
   ]
  },
  {
   "cell_type": "markdown",
   "id": "873b1c81",
   "metadata": {},
   "source": [
    "## Total number of matches conducted"
   ]
  },
  {
   "cell_type": "code",
   "execution_count": 94,
   "id": "35eb56df",
   "metadata": {
    "scrolled": false
   },
   "outputs": [
    {
     "name": "stdout",
     "output_type": "stream",
     "text": [
      "Total number of matches conducted are: 74\n"
     ]
    }
   ],
   "source": [
    "print(f\"Total number of matches conducted are: {match_records.match_number.max()}\")"
   ]
  },
  {
   "cell_type": "markdown",
   "id": "2655d8a7",
   "metadata": {},
   "source": [
    "## Number of matches month wise conducted are"
   ]
  },
  {
   "cell_type": "code",
   "execution_count": 4,
   "id": "e64f8d30",
   "metadata": {
    "scrolled": true
   },
   "outputs": [
    {
     "name": "stdout",
     "output_type": "stream",
     "text": [
      "Number of matches month wise are: \n",
      " month\n",
      "April    41\n",
      "May      32\n",
      "March     1\n",
      "Name: count, dtype: int64\n"
     ]
    },
    {
     "name": "stderr",
     "output_type": "stream",
     "text": [
      "C:\\Users\\User\\AppData\\Local\\Temp\\ipykernel_9284\\375561480.py:2: UserWarning: Parsing dates in %d-%m-%Y format when dayfirst=False (the default) was specified. Pass `dayfirst=True` or specify a format to silence this warning.\n",
      "  match_records['month'] = pd.to_datetime(match_records['date']).dt.month_name()\n"
     ]
    }
   ],
   "source": [
    "# Extract the month from the 'date' column\n",
    "match_records['month'] = pd.to_datetime(match_records['date']).dt.month_name()\n",
    "# pd.to_datetime(ipl_data['date']):Converts the date column values into datetime format\n",
    "# .dt.month_name(): Extracts the month name\n",
    "\n",
    "# Count matches by month\n",
    "monthly_match_count = match_records['month'].value_counts()\n",
    "\n",
    "# Print the monthly match count\n",
    "print(f\"Number of matches month wise are: \\n {monthly_match_count}\")\n"
   ]
  },
  {
   "cell_type": "code",
   "execution_count": 7,
   "id": "ecb95857",
   "metadata": {},
   "outputs": [],
   "source": [
    "\n",
    "# values= monthly_match_count\n",
    "# colors = ['c', 'g', 'b', 'r', 'm']\n",
    "# plt.axis('equal')\n",
    "# plt.title('Percentage: matches held month wise are')\n",
    "# plt.xlabel('number of matches')\n",
    "# # plt.ylabel('months')\n",
    "# plt.legend(loc='best')\n",
    "# plt.pie(values, labels=monthly_match_count.index, colors= colors,autopct='%1.1f%%')\n",
    "# plt.show()"
   ]
  },
  {
   "cell_type": "code",
   "execution_count": 4,
   "id": "d39e4f43",
   "metadata": {},
   "outputs": [
    {
     "name": "stdout",
     "output_type": "stream",
     "text": [
      "Number of matches month wise are: \n",
      " month\n",
      "April    41\n",
      "May      32\n",
      "March     1\n",
      "Name: count, dtype: int64\n"
     ]
    },
    {
     "name": "stderr",
     "output_type": "stream",
     "text": [
      "C:\\Users\\User\\AppData\\Local\\Temp\\ipykernel_3384\\3950615782.py:2: UserWarning: Parsing dates in %d-%m-%Y format when dayfirst=False (the default) was specified. Pass `dayfirst=True` or specify a format to silence this warning.\n",
      "  match_records['month'] = pd.to_datetime(match_records['date']).dt.month_name()\n"
     ]
    },
    {
     "data": {
      "image/png": "[encoded data removed]",
      "text/plain": [
       "<Figure size 400x400 with 1 Axes>"
      ]
     },
     "metadata": {},
     "output_type": "display_data"
    }
   ],
   "source": [
    "# Extract the month from the 'date' column\n",
    "match_records['month'] = pd.to_datetime(match_records['date']).dt.month_name()\n",
    "# pd.to_datetime(ipl_data['date']):Converts the date column values into datetime format\n",
    "# .dt.month_name(): Extracts the month name\n",
    "\n",
    "# Count matches by month\n",
    "monthly_match_count = match_records['month'].value_counts()\n",
    "\n",
    "# Print the monthly match count\n",
    "print(f\"Number of matches month wise are: \\n {monthly_match_count}\")\n",
    "\n",
    "# Create a pie chart\n",
    "plt.figure(figsize=(4, 4))  # Adjust figure size as needed\n",
    "plt.pie(monthly_match_count, labels=monthly_match_count.index, autopct=\"%1.1f%%\", startangle=140)  # Customize as needed\n",
    "plt.title(\"Monthly Match Distribution\")\n",
    "plt.axis('equal')  # Equal aspect ratio ensures a circular pie chart\n",
    "plt.show()"
   ]
  },
  {
   "cell_type": "markdown",
   "id": "9a7b0f9c",
   "metadata": {},
   "source": [
    "## Types of Matches Held"
   ]
  },
  {
   "cell_type": "code",
   "execution_count": 241,
   "id": "cc73b0f3",
   "metadata": {},
   "outputs": [
    {
     "name": "stdout",
     "output_type": "stream",
     "text": [
      "Types of matches held across: \n",
      " match_type\n",
      "Group         70\n",
      "Qualifier      2\n",
      "Eliminator     1\n",
      "Final          1\n",
      "Name: count, dtype: int64\n"
     ]
    },
    {
     "data": {
      "image/png": "[encoded data removed]",
      "text/plain": [
       "<Figure size 500x400 with 1 Axes>"
      ]
     },
     "metadata": {},
     "output_type": "display_data"
    }
   ],
   "source": [
    "types_of_matches = match_records['match_type'].value_counts()\n",
    "print(f\"Types of matches held across: \\n {types_of_matches}\")\n",
    "\n",
    "# Create a bar chart\n",
    "plt.figure(figsize=(5, 4))  # Adjust figure size as needed\n",
    "bars = types_of_matches.plot(kind='bar', color='skyblue')\n",
    "\n",
    "# Add value labels above bars\n",
    "for bar, label in zip(bars.containers[0], types_of_matches):\n",
    "    yval = bar.get_height()\n",
    "    plt.text(bar.get_x() + bar.get_width() / 2, yval + 0.1, int(label), ha='center', va='bottom')\n",
    "\n",
    "plt.title(\"Types of Matches Held\")\n",
    "plt.xlabel(\"Match Type\")\n",
    "plt.ylabel(\"Count\")\n",
    "plt.xticks(rotation=0)  # Rotate x-axis labels for better readability\n",
    "plt.tight_layout()\n",
    "plt.show()"
   ]
  },
  {
   "cell_type": "markdown",
   "id": "02079ba8",
   "metadata": {},
   "source": [
    "## Total number of matches held across staduim"
   ]
  },
  {
   "cell_type": "code",
   "execution_count": 5,
   "id": "b469665d",
   "metadata": {
    "scrolled": true
   },
   "outputs": [
    {
     "name": "stdout",
     "output_type": "stream",
     "text": [
      "Count of matches held across staduim: \n",
      " \n"
     ]
    },
    {
     "data": {
      "text/plain": [
       "venue\n",
       "Narendra Modi Stadium                                           9\n",
       "MA Chidambaram Stadium                                          9\n",
       "Bharat Ratna Shri Atal Bihari Vajpayee Ekana Cricket Stadium    7\n",
       "Rajiv Gandhi International Stadium                              7\n",
       "M Chinnaswamy Stadium                                           7\n",
       "Arun Jaitley Stadium                                            7\n",
       "Eden Gardens                                                    7\n",
       "Wankhede Stadium                                                7\n",
       "Punjab Cricket Association IS Bindra Stadium                    5\n",
       "Sawai Mansingh Stadium                                          5\n",
       "Barsapara Cricket Stadium                                       2\n",
       "Himachal Pradesh Cricket Association Stadium                    2\n",
       "Name: count, dtype: int64"
      ]
     },
     "metadata": {},
     "output_type": "display_data"
    }
   ],
   "source": [
    "match_in_venue = match_records['venue'].value_counts()\n",
    "print(f\"Count of matches held across staduim: \\n \")\n",
    "display(match_in_venue)\n",
    "\n"
   ]
  },
  {
   "cell_type": "code",
   "execution_count": 230,
   "id": "08c0a535",
   "metadata": {},
   "outputs": [
    {
     "data": {
      "image/png": "[encoded data removed]",
      "text/plain": [
       "<Figure size 800x600 with 1 Axes>"
      ]
     },
     "metadata": {},
     "output_type": "display_data"
    }
   ],
   "source": [
    "# Create a bar chart\n",
    "plt.figure(figsize=(8, 6))  # Adjust figure size as needed\n",
    "match_in_venue.plot(kind='bar', color='coral')\n",
    "\n",
    "# Add value labels above bars\n",
    "for bar, label in zip(bars.containers[0], match_in_venue):\n",
    "    yval = bar.get_height()\n",
    "    plt.text(bar.get_x() + bar.get_width() / 2, yval + 0.1, int(label), ha='center', va='bottom')\n",
    "    \n",
    "\n",
    "plt.title(\"Count of matches held across venue\")\n",
    "plt.xlabel(\"Stadium\")\n",
    "plt.ylabel(\"Count\")\n",
    "plt.xticks(rotation=90)  # Rotate x-axis labels for better readability if many categories\n",
    "plt.tight_layout()\n",
    "plt.show()\n",
    "\n",
    "# Add Value Labels:\n",
    "# The for loop iterates through each bar and its corresponding value in match_in_venue.\n",
    "# bar.get_height(): This extracts the height of the current bar.\n",
    "# plt.text(bar.get_x() + bar.get_width() / 2, yval + 0.1, int(label), ha='center', va='bottom'): This adds text at the center of each bar slightly above its top.\n",
    "# bar.get_x() and bar.get_width(): Get the x-position and width of the bar.\n",
    "# yval + 0.1: Positions the text slightly above the bar's height (yval).\n",
    "# int(label): Converts the label (number of matches) to an integer for proper display.\n",
    "# ha='center': Aligns the text horizontally at the center of the bar.\n",
    "# va='bottom': Aligns the text vertically at the bottom of the value"
   ]
  },
  {
   "cell_type": "markdown",
   "id": "bdebbcc9",
   "metadata": {},
   "source": [
    "## Match_vs_Location_vs_Venue"
   ]
  },
  {
   "cell_type": "code",
   "execution_count": 103,
   "id": "1987aaf1",
   "metadata": {
    "scrolled": true
   },
   "outputs": [
    {
     "data": {
      "text/html": [
       "<div>\n",
       "<style scoped>\n",
       "    .dataframe tbody tr th:only-of-type {\n",
       "        vertical-align: middle;\n",
       "    }\n",
       "\n",
       "    .dataframe tbody tr th {\n",
       "        vertical-align: top;\n",
       "    }\n",
       "\n",
       "    .dataframe thead tr th {\n",
       "        text-align: left;\n",
       "    }\n",
       "\n",
       "    .dataframe thead tr:last-of-type th {\n",
       "        text-align: right;\n",
       "    }\n",
       "</style>\n",
       "<table border=\"1\" class=\"dataframe\">\n",
       "  <thead>\n",
       "    <tr>\n",
       "      <th>match_type</th>\n",
       "      <th>Eliminator</th>\n",
       "      <th>Final</th>\n",
       "      <th colspan=\"17\" halign=\"left\">Group</th>\n",
       "      <th colspan=\"2\" halign=\"left\">Qualifier</th>\n",
       "    </tr>\n",
       "    <tr>\n",
       "      <th>location</th>\n",
       "      <th>Chennai</th>\n",
       "      <th>Ahmedabad</th>\n",
       "      <th colspan=\"3\" halign=\"left\">Ahmedabad</th>\n",
       "      <th colspan=\"2\" halign=\"left\">Bengaluru</th>\n",
       "      <th colspan=\"2\" halign=\"left\">Chandigarh</th>\n",
       "      <th>Chennai</th>\n",
       "      <th>...</th>\n",
       "      <th colspan=\"2\" halign=\"left\">Jaipur</th>\n",
       "      <th colspan=\"2\" halign=\"left\">Kolkata</th>\n",
       "      <th colspan=\"2\" halign=\"left\">Lucknow</th>\n",
       "      <th colspan=\"2\" halign=\"left\">Mumbai</th>\n",
       "      <th>Ahmedabad</th>\n",
       "      <th>Chennai</th>\n",
       "    </tr>\n",
       "    <tr>\n",
       "      <th>month</th>\n",
       "      <th>May</th>\n",
       "      <th>May</th>\n",
       "      <th>April</th>\n",
       "      <th>March</th>\n",
       "      <th>May</th>\n",
       "      <th>April</th>\n",
       "      <th>May</th>\n",
       "      <th>April</th>\n",
       "      <th>May</th>\n",
       "      <th>April</th>\n",
       "      <th>...</th>\n",
       "      <th>April</th>\n",
       "      <th>May</th>\n",
       "      <th>April</th>\n",
       "      <th>May</th>\n",
       "      <th>April</th>\n",
       "      <th>May</th>\n",
       "      <th>April</th>\n",
       "      <th>May</th>\n",
       "      <th>May</th>\n",
       "      <th>May</th>\n",
       "    </tr>\n",
       "    <tr>\n",
       "      <th>venue</th>\n",
       "      <th></th>\n",
       "      <th></th>\n",
       "      <th></th>\n",
       "      <th></th>\n",
       "      <th></th>\n",
       "      <th></th>\n",
       "      <th></th>\n",
       "      <th></th>\n",
       "      <th></th>\n",
       "      <th></th>\n",
       "      <th></th>\n",
       "      <th></th>\n",
       "      <th></th>\n",
       "      <th></th>\n",
       "      <th></th>\n",
       "      <th></th>\n",
       "      <th></th>\n",
       "      <th></th>\n",
       "      <th></th>\n",
       "      <th></th>\n",
       "      <th></th>\n",
       "    </tr>\n",
       "  </thead>\n",
       "  <tbody>\n",
       "    <tr>\n",
       "      <th>Arun Jaitley Stadium</th>\n",
       "      <td>0</td>\n",
       "      <td>0</td>\n",
       "      <td>0</td>\n",
       "      <td>0</td>\n",
       "      <td>0</td>\n",
       "      <td>0</td>\n",
       "      <td>0</td>\n",
       "      <td>0</td>\n",
       "      <td>0</td>\n",
       "      <td>0</td>\n",
       "      <td>...</td>\n",
       "      <td>0</td>\n",
       "      <td>0</td>\n",
       "      <td>0</td>\n",
       "      <td>0</td>\n",
       "      <td>0</td>\n",
       "      <td>0</td>\n",
       "      <td>0</td>\n",
       "      <td>0</td>\n",
       "      <td>0</td>\n",
       "      <td>0</td>\n",
       "    </tr>\n",
       "    <tr>\n",
       "      <th>Barsapara Cricket Stadium</th>\n",
       "      <td>0</td>\n",
       "      <td>0</td>\n",
       "      <td>0</td>\n",
       "      <td>0</td>\n",
       "      <td>0</td>\n",
       "      <td>0</td>\n",
       "      <td>0</td>\n",
       "      <td>0</td>\n",
       "      <td>0</td>\n",
       "      <td>0</td>\n",
       "      <td>...</td>\n",
       "      <td>0</td>\n",
       "      <td>0</td>\n",
       "      <td>0</td>\n",
       "      <td>0</td>\n",
       "      <td>0</td>\n",
       "      <td>0</td>\n",
       "      <td>0</td>\n",
       "      <td>0</td>\n",
       "      <td>0</td>\n",
       "      <td>0</td>\n",
       "    </tr>\n",
       "    <tr>\n",
       "      <th>Bharat Ratna Shri Atal Bihari Vajpayee Ekana Cricket Stadium</th>\n",
       "      <td>0</td>\n",
       "      <td>0</td>\n",
       "      <td>0</td>\n",
       "      <td>0</td>\n",
       "      <td>0</td>\n",
       "      <td>0</td>\n",
       "      <td>0</td>\n",
       "      <td>0</td>\n",
       "      <td>0</td>\n",
       "      <td>0</td>\n",
       "      <td>...</td>\n",
       "      <td>0</td>\n",
       "      <td>0</td>\n",
       "      <td>0</td>\n",
       "      <td>0</td>\n",
       "      <td>4</td>\n",
       "      <td>3</td>\n",
       "      <td>0</td>\n",
       "      <td>0</td>\n",
       "      <td>0</td>\n",
       "      <td>0</td>\n",
       "    </tr>\n",
       "    <tr>\n",
       "      <th>Eden Gardens</th>\n",
       "      <td>0</td>\n",
       "      <td>0</td>\n",
       "      <td>0</td>\n",
       "      <td>0</td>\n",
       "      <td>0</td>\n",
       "      <td>0</td>\n",
       "      <td>0</td>\n",
       "      <td>0</td>\n",
       "      <td>0</td>\n",
       "      <td>0</td>\n",
       "      <td>...</td>\n",
       "      <td>0</td>\n",
       "      <td>0</td>\n",
       "      <td>4</td>\n",
       "      <td>3</td>\n",
       "      <td>0</td>\n",
       "      <td>0</td>\n",
       "      <td>0</td>\n",
       "      <td>0</td>\n",
       "      <td>0</td>\n",
       "      <td>0</td>\n",
       "    </tr>\n",
       "    <tr>\n",
       "      <th>Himachal Pradesh Cricket Association Stadium</th>\n",
       "      <td>0</td>\n",
       "      <td>0</td>\n",
       "      <td>0</td>\n",
       "      <td>0</td>\n",
       "      <td>0</td>\n",
       "      <td>0</td>\n",
       "      <td>0</td>\n",
       "      <td>0</td>\n",
       "      <td>0</td>\n",
       "      <td>0</td>\n",
       "      <td>...</td>\n",
       "      <td>0</td>\n",
       "      <td>0</td>\n",
       "      <td>0</td>\n",
       "      <td>0</td>\n",
       "      <td>0</td>\n",
       "      <td>0</td>\n",
       "      <td>0</td>\n",
       "      <td>0</td>\n",
       "      <td>0</td>\n",
       "      <td>0</td>\n",
       "    </tr>\n",
       "    <tr>\n",
       "      <th>M Chinnaswamy Stadium</th>\n",
       "      <td>0</td>\n",
       "      <td>0</td>\n",
       "      <td>0</td>\n",
       "      <td>0</td>\n",
       "      <td>0</td>\n",
       "      <td>6</td>\n",
       "      <td>1</td>\n",
       "      <td>0</td>\n",
       "      <td>0</td>\n",
       "      <td>0</td>\n",
       "      <td>...</td>\n",
       "      <td>0</td>\n",
       "      <td>0</td>\n",
       "      <td>0</td>\n",
       "      <td>0</td>\n",
       "      <td>0</td>\n",
       "      <td>0</td>\n",
       "      <td>0</td>\n",
       "      <td>0</td>\n",
       "      <td>0</td>\n",
       "      <td>0</td>\n",
       "    </tr>\n",
       "    <tr>\n",
       "      <th>MA Chidambaram Stadium</th>\n",
       "      <td>1</td>\n",
       "      <td>0</td>\n",
       "      <td>0</td>\n",
       "      <td>0</td>\n",
       "      <td>0</td>\n",
       "      <td>0</td>\n",
       "      <td>0</td>\n",
       "      <td>0</td>\n",
       "      <td>0</td>\n",
       "      <td>4</td>\n",
       "      <td>...</td>\n",
       "      <td>0</td>\n",
       "      <td>0</td>\n",
       "      <td>0</td>\n",
       "      <td>0</td>\n",
       "      <td>0</td>\n",
       "      <td>0</td>\n",
       "      <td>0</td>\n",
       "      <td>0</td>\n",
       "      <td>0</td>\n",
       "      <td>1</td>\n",
       "    </tr>\n",
       "    <tr>\n",
       "      <th>Narendra Modi Stadium</th>\n",
       "      <td>0</td>\n",
       "      <td>1</td>\n",
       "      <td>3</td>\n",
       "      <td>1</td>\n",
       "      <td>3</td>\n",
       "      <td>0</td>\n",
       "      <td>0</td>\n",
       "      <td>0</td>\n",
       "      <td>0</td>\n",
       "      <td>0</td>\n",
       "      <td>...</td>\n",
       "      <td>0</td>\n",
       "      <td>0</td>\n",
       "      <td>0</td>\n",
       "      <td>0</td>\n",
       "      <td>0</td>\n",
       "      <td>0</td>\n",
       "      <td>0</td>\n",
       "      <td>0</td>\n",
       "      <td>1</td>\n",
       "      <td>0</td>\n",
       "    </tr>\n",
       "    <tr>\n",
       "      <th>Punjab Cricket Association IS Bindra Stadium</th>\n",
       "      <td>0</td>\n",
       "      <td>0</td>\n",
       "      <td>0</td>\n",
       "      <td>0</td>\n",
       "      <td>0</td>\n",
       "      <td>0</td>\n",
       "      <td>0</td>\n",
       "      <td>4</td>\n",
       "      <td>1</td>\n",
       "      <td>0</td>\n",
       "      <td>...</td>\n",
       "      <td>0</td>\n",
       "      <td>0</td>\n",
       "      <td>0</td>\n",
       "      <td>0</td>\n",
       "      <td>0</td>\n",
       "      <td>0</td>\n",
       "      <td>0</td>\n",
       "      <td>0</td>\n",
       "      <td>0</td>\n",
       "      <td>0</td>\n",
       "    </tr>\n",
       "    <tr>\n",
       "      <th>Rajiv Gandhi International Stadium</th>\n",
       "      <td>0</td>\n",
       "      <td>0</td>\n",
       "      <td>0</td>\n",
       "      <td>0</td>\n",
       "      <td>0</td>\n",
       "      <td>0</td>\n",
       "      <td>0</td>\n",
       "      <td>0</td>\n",
       "      <td>0</td>\n",
       "      <td>0</td>\n",
       "      <td>...</td>\n",
       "      <td>0</td>\n",
       "      <td>0</td>\n",
       "      <td>0</td>\n",
       "      <td>0</td>\n",
       "      <td>0</td>\n",
       "      <td>0</td>\n",
       "      <td>0</td>\n",
       "      <td>0</td>\n",
       "      <td>0</td>\n",
       "      <td>0</td>\n",
       "    </tr>\n",
       "    <tr>\n",
       "      <th>Sawai Mansingh Stadium</th>\n",
       "      <td>0</td>\n",
       "      <td>0</td>\n",
       "      <td>0</td>\n",
       "      <td>0</td>\n",
       "      <td>0</td>\n",
       "      <td>0</td>\n",
       "      <td>0</td>\n",
       "      <td>0</td>\n",
       "      <td>0</td>\n",
       "      <td>0</td>\n",
       "      <td>...</td>\n",
       "      <td>2</td>\n",
       "      <td>3</td>\n",
       "      <td>0</td>\n",
       "      <td>0</td>\n",
       "      <td>0</td>\n",
       "      <td>0</td>\n",
       "      <td>0</td>\n",
       "      <td>0</td>\n",
       "      <td>0</td>\n",
       "      <td>0</td>\n",
       "    </tr>\n",
       "    <tr>\n",
       "      <th>Wankhede Stadium</th>\n",
       "      <td>0</td>\n",
       "      <td>0</td>\n",
       "      <td>0</td>\n",
       "      <td>0</td>\n",
       "      <td>0</td>\n",
       "      <td>0</td>\n",
       "      <td>0</td>\n",
       "      <td>0</td>\n",
       "      <td>0</td>\n",
       "      <td>0</td>\n",
       "      <td>...</td>\n",
       "      <td>0</td>\n",
       "      <td>0</td>\n",
       "      <td>0</td>\n",
       "      <td>0</td>\n",
       "      <td>0</td>\n",
       "      <td>0</td>\n",
       "      <td>4</td>\n",
       "      <td>3</td>\n",
       "      <td>0</td>\n",
       "      <td>0</td>\n",
       "    </tr>\n",
       "  </tbody>\n",
       "</table>\n",
       "<p>12 rows × 27 columns</p>\n",
       "</div>"
      ],
      "text/plain": [
       "match_type                                         Eliminator     Final  \\\n",
       "location                                              Chennai Ahmedabad   \n",
       "month                                                     May       May   \n",
       "venue                                                                     \n",
       "Arun Jaitley Stadium                                        0         0   \n",
       "Barsapara Cricket Stadium                                   0         0   \n",
       "Bharat Ratna Shri Atal Bihari Vajpayee Ekana Cr...          0         0   \n",
       "Eden Gardens                                                0         0   \n",
       "Himachal Pradesh Cricket Association Stadium                0         0   \n",
       "M Chinnaswamy Stadium                                       0         0   \n",
       "MA Chidambaram Stadium                                      1         0   \n",
       "Narendra Modi Stadium                                       0         1   \n",
       "Punjab Cricket Association IS Bindra Stadium                0         0   \n",
       "Rajiv Gandhi International Stadium                          0         0   \n",
       "Sawai Mansingh Stadium                                      0         0   \n",
       "Wankhede Stadium                                            0         0   \n",
       "\n",
       "match_type                                             Group            \\\n",
       "location                                           Ahmedabad             \n",
       "month                                                  April March May   \n",
       "venue                                                                    \n",
       "Arun Jaitley Stadium                                       0     0   0   \n",
       "Barsapara Cricket Stadium                                  0     0   0   \n",
       "Bharat Ratna Shri Atal Bihari Vajpayee Ekana Cr...         0     0   0   \n",
       "Eden Gardens                                               0     0   0   \n",
       "Himachal Pradesh Cricket Association Stadium               0     0   0   \n",
       "M Chinnaswamy Stadium                                      0     0   0   \n",
       "MA Chidambaram Stadium                                     0     0   0   \n",
       "Narendra Modi Stadium                                      3     1   3   \n",
       "Punjab Cricket Association IS Bindra Stadium               0     0   0   \n",
       "Rajiv Gandhi International Stadium                         0     0   0   \n",
       "Sawai Mansingh Stadium                                     0     0   0   \n",
       "Wankhede Stadium                                           0     0   0   \n",
       "\n",
       "match_type                                                                   \\\n",
       "location                                           Bengaluru     Chandigarh   \n",
       "month                                                  April May      April   \n",
       "venue                                                                         \n",
       "Arun Jaitley Stadium                                       0   0          0   \n",
       "Barsapara Cricket Stadium                                  0   0          0   \n",
       "Bharat Ratna Shri Atal Bihari Vajpayee Ekana Cr...         0   0          0   \n",
       "Eden Gardens                                               0   0          0   \n",
       "Himachal Pradesh Cricket Association Stadium               0   0          0   \n",
       "M Chinnaswamy Stadium                                      6   1          0   \n",
       "MA Chidambaram Stadium                                     0   0          0   \n",
       "Narendra Modi Stadium                                      0   0          0   \n",
       "Punjab Cricket Association IS Bindra Stadium               0   0          4   \n",
       "Rajiv Gandhi International Stadium                         0   0          0   \n",
       "Sawai Mansingh Stadium                                     0   0          0   \n",
       "Wankhede Stadium                                           0   0          0   \n",
       "\n",
       "match_type                                                      ...         \\\n",
       "location                                               Chennai  ... Jaipur   \n",
       "month                                              May   April  ...  April   \n",
       "venue                                                           ...          \n",
       "Arun Jaitley Stadium                                 0       0  ...      0   \n",
       "Barsapara Cricket Stadium                            0       0  ...      0   \n",
       "Bharat Ratna Shri Atal Bihari Vajpayee Ekana Cr...   0       0  ...      0   \n",
       "Eden Gardens                                         0       0  ...      0   \n",
       "Himachal Pradesh Cricket Association Stadium         0       0  ...      0   \n",
       "M Chinnaswamy Stadium                                0       0  ...      0   \n",
       "MA Chidambaram Stadium                               0       4  ...      0   \n",
       "Narendra Modi Stadium                                0       0  ...      0   \n",
       "Punjab Cricket Association IS Bindra Stadium         1       0  ...      0   \n",
       "Rajiv Gandhi International Stadium                   0       0  ...      0   \n",
       "Sawai Mansingh Stadium                               0       0  ...      2   \n",
       "Wankhede Stadium                                     0       0  ...      0   \n",
       "\n",
       "match_type                                                                  \\\n",
       "location                                               Kolkata     Lucknow   \n",
       "month                                              May   April May   April   \n",
       "venue                                                                        \n",
       "Arun Jaitley Stadium                                 0       0   0       0   \n",
       "Barsapara Cricket Stadium                            0       0   0       0   \n",
       "Bharat Ratna Shri Atal Bihari Vajpayee Ekana Cr...   0       0   0       4   \n",
       "Eden Gardens                                         0       4   3       0   \n",
       "Himachal Pradesh Cricket Association Stadium         0       0   0       0   \n",
       "M Chinnaswamy Stadium                                0       0   0       0   \n",
       "MA Chidambaram Stadium                               0       0   0       0   \n",
       "Narendra Modi Stadium                                0       0   0       0   \n",
       "Punjab Cricket Association IS Bindra Stadium         0       0   0       0   \n",
       "Rajiv Gandhi International Stadium                   0       0   0       0   \n",
       "Sawai Mansingh Stadium                               3       0   0       0   \n",
       "Wankhede Stadium                                     0       0   0       0   \n",
       "\n",
       "match_type                                                        Qualifier  \\\n",
       "location                                               Mumbai     Ahmedabad   \n",
       "month                                              May  April May       May   \n",
       "venue                                                                         \n",
       "Arun Jaitley Stadium                                 0      0   0         0   \n",
       "Barsapara Cricket Stadium                            0      0   0         0   \n",
       "Bharat Ratna Shri Atal Bihari Vajpayee Ekana Cr...   3      0   0         0   \n",
       "Eden Gardens                                         0      0   0         0   \n",
       "Himachal Pradesh Cricket Association Stadium         0      0   0         0   \n",
       "M Chinnaswamy Stadium                                0      0   0         0   \n",
       "MA Chidambaram Stadium                               0      0   0         0   \n",
       "Narendra Modi Stadium                                0      0   0         1   \n",
       "Punjab Cricket Association IS Bindra Stadium         0      0   0         0   \n",
       "Rajiv Gandhi International Stadium                   0      0   0         0   \n",
       "Sawai Mansingh Stadium                               0      0   0         0   \n",
       "Wankhede Stadium                                     0      4   3         0   \n",
       "\n",
       "match_type                                                  \n",
       "location                                           Chennai  \n",
       "month                                                  May  \n",
       "venue                                                       \n",
       "Arun Jaitley Stadium                                     0  \n",
       "Barsapara Cricket Stadium                                0  \n",
       "Bharat Ratna Shri Atal Bihari Vajpayee Ekana Cr...       0  \n",
       "Eden Gardens                                             0  \n",
       "Himachal Pradesh Cricket Association Stadium             0  \n",
       "M Chinnaswamy Stadium                                    0  \n",
       "MA Chidambaram Stadium                                   1  \n",
       "Narendra Modi Stadium                                    0  \n",
       "Punjab Cricket Association IS Bindra Stadium             0  \n",
       "Rajiv Gandhi International Stadium                       0  \n",
       "Sawai Mansingh Stadium                                   0  \n",
       "Wankhede Stadium                                         0  \n",
       "\n",
       "[12 rows x 27 columns]"
      ]
     },
     "metadata": {},
     "output_type": "display_data"
    },
    {
     "name": "stdout",
     "output_type": "stream",
     "text": [
      "match_vs_location_vs_venue: \n",
      " None\n"
     ]
    }
   ],
   "source": [
    "# monthly_match_count = pd.crosstab(match_records['venue'], match_records['match_type'], match_records['location'])\n",
    "match_vs_location = pd.crosstab(match_records['venue'], [match_records['match_type'], match_records['location'], match_records['month']])\n",
    "\n",
    "# Print the monthly match count by match type\n",
    "print(f\"match_vs_location_vs_venue: \\n {display(match_vs_location)}\")"
   ]
  },
  {
   "cell_type": "markdown",
   "id": "38649e8e",
   "metadata": {},
   "source": [
    "## Monthly Match Distribution by Match Type"
   ]
  },
  {
   "cell_type": "code",
   "execution_count": 261,
   "id": "fd23595e",
   "metadata": {},
   "outputs": [
    {
     "name": "stderr",
     "output_type": "stream",
     "text": [
      "C:\\Users\\User\\AppData\\Local\\Temp\\ipykernel_5412\\4185718963.py:2: UserWarning: Parsing dates in %d-%m-%Y format when dayfirst=False (the default) was specified. Pass `dayfirst=True` or specify a format to silence this warning.\n",
      "  match_records['month'] = pd.to_datetime(match_records['date']).dt.month_name()\n"
     ]
    },
    {
     "data": {
      "text/html": [
       "<div>\n",
       "<style scoped>\n",
       "    .dataframe tbody tr th:only-of-type {\n",
       "        vertical-align: middle;\n",
       "    }\n",
       "\n",
       "    .dataframe tbody tr th {\n",
       "        vertical-align: top;\n",
       "    }\n",
       "\n",
       "    .dataframe thead th {\n",
       "        text-align: right;\n",
       "    }\n",
       "</style>\n",
       "<table border=\"1\" class=\"dataframe\">\n",
       "  <thead>\n",
       "    <tr style=\"text-align: right;\">\n",
       "      <th>match_type</th>\n",
       "      <th>Eliminator</th>\n",
       "      <th>Final</th>\n",
       "      <th>Group</th>\n",
       "      <th>Qualifier</th>\n",
       "      <th>Total</th>\n",
       "    </tr>\n",
       "    <tr>\n",
       "      <th>month</th>\n",
       "      <th></th>\n",
       "      <th></th>\n",
       "      <th></th>\n",
       "      <th></th>\n",
       "      <th></th>\n",
       "    </tr>\n",
       "  </thead>\n",
       "  <tbody>\n",
       "    <tr>\n",
       "      <th>April</th>\n",
       "      <td>0</td>\n",
       "      <td>0</td>\n",
       "      <td>41</td>\n",
       "      <td>0</td>\n",
       "      <td>41</td>\n",
       "    </tr>\n",
       "    <tr>\n",
       "      <th>March</th>\n",
       "      <td>0</td>\n",
       "      <td>0</td>\n",
       "      <td>1</td>\n",
       "      <td>0</td>\n",
       "      <td>1</td>\n",
       "    </tr>\n",
       "    <tr>\n",
       "      <th>May</th>\n",
       "      <td>1</td>\n",
       "      <td>1</td>\n",
       "      <td>28</td>\n",
       "      <td>2</td>\n",
       "      <td>32</td>\n",
       "    </tr>\n",
       "  </tbody>\n",
       "</table>\n",
       "</div>"
      ],
      "text/plain": [
       "match_type  Eliminator  Final  Group  Qualifier  Total\n",
       "month                                                 \n",
       "April                0      0     41          0     41\n",
       "March                0      0      1          0      1\n",
       "May                  1      1     28          2     32"
      ]
     },
     "metadata": {},
     "output_type": "display_data"
    },
    {
     "name": "stdout",
     "output_type": "stream",
     "text": [
      "Types of matches held across months: \n",
      " None\n"
     ]
    }
   ],
   "source": [
    "# Extract the month from the 'date' column\n",
    "match_records['month'] = pd.to_datetime(match_records['date']).dt.month_name()\n",
    "\n",
    "# Count matches by month and match type (using crosstab)\n",
    "monthly_match_count = pd.crosstab(match_records['month'], match_records['match_type'])\n",
    "\n",
    "# Sort by month (alphabetically)\n",
    "monthly_match_type_count = monthly_match_count.sort_index(axis=0)\n",
    "\n",
    "monthly_match_type_count['Total'] = monthly_match_type_count.sum(axis=1)\n",
    "\n",
    "# monthly_match_type_count_sort = monthly_match_type_count.sort_values(by='month', ascending=False)\n",
    "\n",
    "# Print the monthly match count by match type\n",
    "print(f\"Types of matches held across months: \\n {display(monthly_match_type_count)}\")"
   ]
  },
  {
   "cell_type": "code",
   "execution_count": 268,
   "id": "d2e29e6a",
   "metadata": {
    "scrolled": true
   },
   "outputs": [
    {
     "data": {
      "text/plain": [
       "<Figure size 1200x600 with 0 Axes>"
      ]
     },
     "metadata": {},
     "output_type": "display_data"
    },
    {
     "data": {
      "image/png": "[encoded data removed]",
      "text/plain": [
       "<Figure size 640x480 with 1 Axes>"
      ]
     },
     "metadata": {},
     "output_type": "display_data"
    }
   ],
   "source": [
    "\n",
    "# monthly_match_type_count_sort = monthly_match_type_count.sort_values(by='month', ascending=False)\n",
    "\n",
    "# Create a bar chart\n",
    "plt.figure(figsize=(12, 6))  # Adjust figure size as needed\n",
    "monthly_match_type_count.plot(kind='bar', stacked=False)  # Unstack for separate bars per type\n",
    "\n",
    "# Customize x-axis labels (optional, rotate if many months)\n",
    "plt.xticks(rotation=45, ha='right')  # Rotate x-axis labels for readability\n",
    "\n",
    "# Add a legend for match types\n",
    "plt.legend(title='Match Type', loc='upper left', bbox_to_anchor=(1, 1))\n",
    "\n",
    "plt.title(\"Monthly Match Distribution by Match Type\")\n",
    "plt.xlabel(\"Month\")\n",
    "plt.ylabel(\"Count\")\n",
    "plt.tight_layout()\n",
    "plt.show()"
   ]
  },
  {
   "cell_type": "markdown",
   "id": "93283ce5",
   "metadata": {},
   "source": [
    "## Types of matches held across months based on respective stadiums/venue"
   ]
  },
  {
   "cell_type": "code",
   "execution_count": 40,
   "id": "a542a328",
   "metadata": {
    "scrolled": false
   },
   "outputs": [
    {
     "name": "stderr",
     "output_type": "stream",
     "text": [
      "C:\\Users\\User\\AppData\\Local\\Temp\\ipykernel_9284\\453202294.py:2: UserWarning: Parsing dates in %d-%m-%Y format when dayfirst=False (the default) was specified. Pass `dayfirst=True` or specify a format to silence this warning.\n",
      "  match_records['month'] = pd.to_datetime(match_records['date']).dt.month_name()\n"
     ]
    },
    {
     "data": {
      "text/html": [
       "<div>\n",
       "<style scoped>\n",
       "    .dataframe tbody tr th:only-of-type {\n",
       "        vertical-align: middle;\n",
       "    }\n",
       "\n",
       "    .dataframe tbody tr th {\n",
       "        vertical-align: top;\n",
       "    }\n",
       "\n",
       "    .dataframe thead tr th {\n",
       "        text-align: left;\n",
       "    }\n",
       "\n",
       "    .dataframe thead tr:last-of-type th {\n",
       "        text-align: right;\n",
       "    }\n",
       "</style>\n",
       "<table border=\"1\" class=\"dataframe\">\n",
       "  <thead>\n",
       "    <tr>\n",
       "      <th>month</th>\n",
       "      <th>April</th>\n",
       "      <th>March</th>\n",
       "      <th colspan=\"4\" halign=\"left\">May</th>\n",
       "    </tr>\n",
       "    <tr>\n",
       "      <th>match_type</th>\n",
       "      <th>Group</th>\n",
       "      <th>Group</th>\n",
       "      <th>Eliminator</th>\n",
       "      <th>Final</th>\n",
       "      <th>Group</th>\n",
       "      <th>Qualifier</th>\n",
       "    </tr>\n",
       "    <tr>\n",
       "      <th>venue</th>\n",
       "      <th></th>\n",
       "      <th></th>\n",
       "      <th></th>\n",
       "      <th></th>\n",
       "      <th></th>\n",
       "      <th></th>\n",
       "    </tr>\n",
       "  </thead>\n",
       "  <tbody>\n",
       "    <tr>\n",
       "      <th>Arun Jaitley Stadium</th>\n",
       "      <td>4</td>\n",
       "      <td>0</td>\n",
       "      <td>0</td>\n",
       "      <td>0</td>\n",
       "      <td>3</td>\n",
       "      <td>0</td>\n",
       "    </tr>\n",
       "    <tr>\n",
       "      <th>Barsapara Cricket Stadium</th>\n",
       "      <td>2</td>\n",
       "      <td>0</td>\n",
       "      <td>0</td>\n",
       "      <td>0</td>\n",
       "      <td>0</td>\n",
       "      <td>0</td>\n",
       "    </tr>\n",
       "    <tr>\n",
       "      <th>Bharat Ratna Shri Atal Bihari Vajpayee Ekana Cricket Stadium</th>\n",
       "      <td>4</td>\n",
       "      <td>0</td>\n",
       "      <td>0</td>\n",
       "      <td>0</td>\n",
       "      <td>3</td>\n",
       "      <td>0</td>\n",
       "    </tr>\n",
       "    <tr>\n",
       "      <th>Eden Gardens</th>\n",
       "      <td>4</td>\n",
       "      <td>0</td>\n",
       "      <td>0</td>\n",
       "      <td>0</td>\n",
       "      <td>3</td>\n",
       "      <td>0</td>\n",
       "    </tr>\n",
       "    <tr>\n",
       "      <th>Himachal Pradesh Cricket Association Stadium</th>\n",
       "      <td>0</td>\n",
       "      <td>0</td>\n",
       "      <td>0</td>\n",
       "      <td>0</td>\n",
       "      <td>2</td>\n",
       "      <td>0</td>\n",
       "    </tr>\n",
       "    <tr>\n",
       "      <th>M Chinnaswamy Stadium</th>\n",
       "      <td>6</td>\n",
       "      <td>0</td>\n",
       "      <td>0</td>\n",
       "      <td>0</td>\n",
       "      <td>1</td>\n",
       "      <td>0</td>\n",
       "    </tr>\n",
       "    <tr>\n",
       "      <th>MA Chidambaram Stadium</th>\n",
       "      <td>4</td>\n",
       "      <td>0</td>\n",
       "      <td>1</td>\n",
       "      <td>0</td>\n",
       "      <td>3</td>\n",
       "      <td>1</td>\n",
       "    </tr>\n",
       "    <tr>\n",
       "      <th>Narendra Modi Stadium</th>\n",
       "      <td>3</td>\n",
       "      <td>1</td>\n",
       "      <td>0</td>\n",
       "      <td>1</td>\n",
       "      <td>3</td>\n",
       "      <td>1</td>\n",
       "    </tr>\n",
       "    <tr>\n",
       "      <th>Punjab Cricket Association IS Bindra Stadium</th>\n",
       "      <td>4</td>\n",
       "      <td>0</td>\n",
       "      <td>0</td>\n",
       "      <td>0</td>\n",
       "      <td>1</td>\n",
       "      <td>0</td>\n",
       "    </tr>\n",
       "    <tr>\n",
       "      <th>Rajiv Gandhi International Stadium</th>\n",
       "      <td>4</td>\n",
       "      <td>0</td>\n",
       "      <td>0</td>\n",
       "      <td>0</td>\n",
       "      <td>3</td>\n",
       "      <td>0</td>\n",
       "    </tr>\n",
       "    <tr>\n",
       "      <th>Sawai Mansingh Stadium</th>\n",
       "      <td>2</td>\n",
       "      <td>0</td>\n",
       "      <td>0</td>\n",
       "      <td>0</td>\n",
       "      <td>3</td>\n",
       "      <td>0</td>\n",
       "    </tr>\n",
       "    <tr>\n",
       "      <th>Wankhede Stadium</th>\n",
       "      <td>4</td>\n",
       "      <td>0</td>\n",
       "      <td>0</td>\n",
       "      <td>0</td>\n",
       "      <td>3</td>\n",
       "      <td>0</td>\n",
       "    </tr>\n",
       "  </tbody>\n",
       "</table>\n",
       "</div>"
      ],
      "text/plain": [
       "month                                              April March        May  \\\n",
       "match_type                                         Group Group Eliminator   \n",
       "venue                                                                       \n",
       "Arun Jaitley Stadium                                   4     0          0   \n",
       "Barsapara Cricket Stadium                              2     0          0   \n",
       "Bharat Ratna Shri Atal Bihari Vajpayee Ekana Cr...     4     0          0   \n",
       "Eden Gardens                                           4     0          0   \n",
       "Himachal Pradesh Cricket Association Stadium           0     0          0   \n",
       "M Chinnaswamy Stadium                                  6     0          0   \n",
       "MA Chidambaram Stadium                                 4     0          1   \n",
       "Narendra Modi Stadium                                  3     1          0   \n",
       "Punjab Cricket Association IS Bindra Stadium           4     0          0   \n",
       "Rajiv Gandhi International Stadium                     4     0          0   \n",
       "Sawai Mansingh Stadium                                 2     0          0   \n",
       "Wankhede Stadium                                       4     0          0   \n",
       "\n",
       "month                                                                     \n",
       "match_type                                         Final Group Qualifier  \n",
       "venue                                                                     \n",
       "Arun Jaitley Stadium                                   0     3         0  \n",
       "Barsapara Cricket Stadium                              0     0         0  \n",
       "Bharat Ratna Shri Atal Bihari Vajpayee Ekana Cr...     0     3         0  \n",
       "Eden Gardens                                           0     3         0  \n",
       "Himachal Pradesh Cricket Association Stadium           0     2         0  \n",
       "M Chinnaswamy Stadium                                  0     1         0  \n",
       "MA Chidambaram Stadium                                 0     3         1  \n",
       "Narendra Modi Stadium                                  1     3         1  \n",
       "Punjab Cricket Association IS Bindra Stadium           0     1         0  \n",
       "Rajiv Gandhi International Stadium                     0     3         0  \n",
       "Sawai Mansingh Stadium                                 0     3         0  \n",
       "Wankhede Stadium                                       0     3         0  "
      ]
     },
     "metadata": {},
     "output_type": "display_data"
    },
    {
     "name": "stdout",
     "output_type": "stream",
     "text": [
      "Types of matches held across months based on respective stadiums/venue: \n",
      " None\n"
     ]
    }
   ],
   "source": [
    "# Extract the month from the 'date' column\n",
    "match_records['month'] = pd.to_datetime(match_records['date']).dt.month_name()\n",
    "\n",
    "# Create a 3-way crosstab to count matches by month, match_type, and venue\n",
    "monthly_match_info = pd.crosstab(match_records['venue'], [match_records['month'], match_records['match_type']])\n",
    "\n",
    "# monthly_match_info = pd.crosstab(match_records['month'], [match_records['match_type'], match_records['venue']])\n",
    "\n",
    "# Sort by month (alphabetically)\n",
    "# monthly_match_info = monthly_match_info.sort_index(level=0)\n",
    "\n",
    "# Print the results\n",
    "print(f\"Types of matches held across months based on respective stadiums/venue: \\n {display(monthly_match_info)}\")"
   ]
  },
  {
   "cell_type": "code",
   "execution_count": 43,
   "id": "c1600553",
   "metadata": {},
   "outputs": [
    {
     "name": "stderr",
     "output_type": "stream",
     "text": [
      "C:\\Users\\User\\AppData\\Local\\Temp\\ipykernel_9284\\3235212339.py:32: UserWarning: Tight layout not applied. The bottom and top margins cannot be made large enough to accommodate all axes decorations.\n",
      "  plt.tight_layout()\n"
     ]
    },
    {
     "data": {
      "text/plain": [
       "<Figure size 800x600 with 0 Axes>"
      ]
     },
     "metadata": {},
     "output_type": "display_data"
    },
    {
     "data": {
      "image/png": "[encoded data removed]",
      "text/plain": [
       "<Figure size 640x480 with 1 Axes>"
      ]
     },
     "metadata": {},
     "output_type": "display_data"
    }
   ],
   "source": [
    "\n",
    "# # Example bar chart using pandas plotting (consider matplotlib for more customization)\n",
    "# monthly_match_info.plot(kind='bar', colormap='tab20')\n",
    "# plt.xlabel(\"Month-Match Type\")\n",
    "# plt.ylabel(\"Count\")\n",
    "# # Add a legend for match types\n",
    "# plt.legend(title='Match Type', loc='upper left', bbox_to_anchor=(1, 1))\n",
    "# plt.title(\"Matches Played by Month, Match Type, and Venue (Reshaped)\")\n",
    "# plt.xticks(rotation=90)  # Optional: Rotate x-axis labels for readability\n",
    "# plt.tight_layout()\n",
    "# plt.show()\n",
    "\n",
    "\n",
    "\n",
    "# Create a stacked bar chart\n",
    "plt.figure(figsize=(8, 6))  # Adjust figure size as needed\n",
    "bars = monthly_match_info.plot(kind='bar', stacked=True, color=['skyblue', 'blue', 'brown','green','cyan','orange','yellow'])\n",
    "\n",
    "# Add value labels above bars\n",
    "for bar_i in range(len(bars.containers)):  # Loop through each set of bars\n",
    "    for bar, label in zip(bars.containers[bar_i], monthly_match_info.iloc[:, bar_i]):\n",
    "        yval = bar.get_height()\n",
    "        plt.text(bar.get_x() + bar.get_width() / 2, yval + 0.1, int(label), ha='center', va='bottom')\n",
    "\n",
    "plt.xlabel(\"Toss Won\")\n",
    "plt.ylabel(\"Count\")\n",
    "plt.title(\"Choice After Winning Toss (Bat/Bowl)\")\n",
    "plt.xticks(rotation=90)  # Rotate x-axis labels for readability\n",
    "plt.legend(title=\"Decision After Toss Win\", loc='upper right')  # Add a legend\n",
    "plt.tight_layout()\n",
    "plt.show()"
   ]
  },
  {
   "cell_type": "code",
   "execution_count": 6,
   "id": "9582f259",
   "metadata": {
    "scrolled": true
   },
   "outputs": [],
   "source": [
    "# # monthly_match_count = pd.crosstab(match_records['venue'], match_records['match_type'], match_records['location'])\n",
    "# match_vs_location = pd.crosstab(match_records['venue'], [match_records['match_type'], match_records['location'], match_records['month']])\n",
    "\n",
    "# # Print the monthly match count by match type\n",
    "# print(f\"match held_vs_location_vs_venue: \\n {display(match_vs_location)}\")"
   ]
  },
  {
   "cell_type": "markdown",
   "id": "ff5be2ac",
   "metadata": {},
   "source": [
    "## Total number of teams in IPL"
   ]
  },
  {
   "cell_type": "code",
   "execution_count": 90,
   "id": "27d38909",
   "metadata": {},
   "outputs": [
    {
     "name": "stdout",
     "output_type": "stream",
     "text": [
      "Total number of teams in IPL: \n",
      " 10\n"
     ]
    }
   ],
   "source": [
    "print(f\"Total number of teams in IPL: \\n {match_records['team1'].nunique()}\")"
   ]
  },
  {
   "cell_type": "markdown",
   "id": "32aaa0fd",
   "metadata": {},
   "source": [
    "## List of Teams in IPL"
   ]
  },
  {
   "cell_type": "code",
   "execution_count": 92,
   "id": "0aec8f61",
   "metadata": {
    "scrolled": true
   },
   "outputs": [
    {
     "name": "stdout",
     "output_type": "stream",
     "text": [
      "List of Teams in IPL: \n",
      " ['Chennai Super Kings' 'Punjab Kings' 'Lucknow Super Giants'\n",
      " 'Rajasthan Royals' 'Mumbai Indians' 'Delhi Capitals'\n",
      " 'Kolkata Knight Riders' 'Sunrisers Hyderabad' 'Gujarat Titans'\n",
      " 'Royal Challengers Bangalore']\n"
     ]
    }
   ],
   "source": [
    "print(f\"List of Teams in IPL: \\n {match_records['team1'].unique()}\")"
   ]
  },
  {
   "cell_type": "markdown",
   "id": "37bbbea5",
   "metadata": {},
   "source": [
    "## Most toss won by team"
   ]
  },
  {
   "cell_type": "code",
   "execution_count": 7,
   "id": "fcf75960",
   "metadata": {
    "scrolled": true
   },
   "outputs": [
    {
     "name": "stdout",
     "output_type": "stream",
     "text": [
      "Most toss won by team:\n",
      " toss_won\n",
      "Rajasthan Royals               10\n",
      "Chennai Super Kings            10\n",
      "Mumbai Indians                 10\n",
      "Gujarat Titans                  9\n",
      "Royal Challengers Bangalore     8\n",
      "Delhi Capitals                  7\n",
      "Sunrisers Hyderabad             7\n",
      "Kolkata Knight Riders           5\n",
      "Punjab Kings                    5\n",
      "Lucknow Super Giants            3\n",
      "Name: count, dtype: int64\n"
     ]
    }
   ],
   "source": [
    "print(f\"Most toss won by team:\\n {match_records['toss_won'].value_counts()}\")\n",
    "toss_winners=match_records['toss_won'].value_counts()"
   ]
  },
  {
   "cell_type": "code",
   "execution_count": 46,
   "id": "ae9fa19c",
   "metadata": {},
   "outputs": [
    {
     "data": {
      "image/png": "[encoded data removed]",
      "text/plain": [
       "<Figure size 800x700 with 1 Axes>"
      ]
     },
     "metadata": {},
     "output_type": "display_data"
    }
   ],
   "source": [
    "# Create a bar chart\n",
    "plt.figure(figsize=(8, 7))  # Adjust figure size as needed\n",
    "bars = toss_winners.plot(kind='bar', color='lightgreen')\n",
    "\n",
    "# Add value labels above bars\n",
    "for bar, label in zip(bars.containers[0], toss_winners):\n",
    "    yval = bar.get_height()\n",
    "    plt.text(bar.get_x() + bar.get_width() / 2, yval + 0.1, int(label), ha='center', va='bottom')\n",
    "\n",
    "plt.title(\"Teams Winning the Toss\")\n",
    "plt.xlabel(\"Team\")\n",
    "plt.ylabel(\"Count\")\n",
    "plt.xticks(rotation=90)  # Rotate x-axis labels for better readability\n",
    "plt.tight_layout()\n",
    "plt.show()"
   ]
  },
  {
   "cell_type": "markdown",
   "id": "4f93e5c3",
   "metadata": {},
   "source": [
    "## Toss Decision Distribution"
   ]
  },
  {
   "cell_type": "code",
   "execution_count": 111,
   "id": "5bbdcc7b",
   "metadata": {
    "scrolled": false
   },
   "outputs": [
    {
     "name": "stdout",
     "output_type": "stream",
     "text": [
      "Most toss decission:\n",
      " toss_decision\n",
      "field    53\n",
      "bat      21\n",
      "Name: count, dtype: int64\n"
     ]
    }
   ],
   "source": [
    "print(f\"Most toss decission:\\n {match_records['toss_decision'].value_counts()}\")"
   ]
  },
  {
   "cell_type": "code",
   "execution_count": 52,
   "id": "183703a6",
   "metadata": {},
   "outputs": [
    {
     "data": {
      "image/png": "[encoded data removed]",
      "text/plain": [
       "<Figure size 300x300 with 1 Axes>"
      ]
     },
     "metadata": {},
     "output_type": "display_data"
    }
   ],
   "source": [
    "# Get toss decision counts\n",
    "toss_decisions = match_records['toss_decision'].value_counts()\n",
    "\n",
    "# Create a pie chart\n",
    "plt.figure(figsize=(3, 3))  # Adjust figure size as needed\n",
    "plt.pie(toss_decisions, labels=toss_decisions.index, autopct=\"%1.1f%%\", startangle=140)  # Customize as needed\n",
    "plt.title(\"Toss Decision Distribution\")\n",
    "plt.axis('equal')  # Equal aspect ratio ensures a circular pie chart\n",
    "plt.show()"
   ]
  },
  {
   "cell_type": "markdown",
   "id": "43b774c8",
   "metadata": {},
   "source": [
    "## Toss_vs_choice"
   ]
  },
  {
   "cell_type": "code",
   "execution_count": 9,
   "id": "9b01a652",
   "metadata": {},
   "outputs": [
    {
     "name": "stdout",
     "output_type": "stream",
     "text": [
      "toss_vs_choice: \n",
      " \n"
     ]
    },
    {
     "data": {
      "text/html": [
       "<div>\n",
       "<style scoped>\n",
       "    .dataframe tbody tr th:only-of-type {\n",
       "        vertical-align: middle;\n",
       "    }\n",
       "\n",
       "    .dataframe tbody tr th {\n",
       "        vertical-align: top;\n",
       "    }\n",
       "\n",
       "    .dataframe thead th {\n",
       "        text-align: right;\n",
       "    }\n",
       "</style>\n",
       "<table border=\"1\" class=\"dataframe\">\n",
       "  <thead>\n",
       "    <tr style=\"text-align: right;\">\n",
       "      <th>toss_decision</th>\n",
       "      <th>bat</th>\n",
       "      <th>field</th>\n",
       "      <th>Total</th>\n",
       "    </tr>\n",
       "    <tr>\n",
       "      <th>toss_won</th>\n",
       "      <th></th>\n",
       "      <th></th>\n",
       "      <th></th>\n",
       "    </tr>\n",
       "  </thead>\n",
       "  <tbody>\n",
       "    <tr>\n",
       "      <th>Chennai Super Kings</th>\n",
       "      <td>4</td>\n",
       "      <td>6</td>\n",
       "      <td>10</td>\n",
       "    </tr>\n",
       "    <tr>\n",
       "      <th>Mumbai Indians</th>\n",
       "      <td>1</td>\n",
       "      <td>9</td>\n",
       "      <td>10</td>\n",
       "    </tr>\n",
       "    <tr>\n",
       "      <th>Rajasthan Royals</th>\n",
       "      <td>4</td>\n",
       "      <td>6</td>\n",
       "      <td>10</td>\n",
       "    </tr>\n",
       "    <tr>\n",
       "      <th>Gujarat Titans</th>\n",
       "      <td>2</td>\n",
       "      <td>7</td>\n",
       "      <td>9</td>\n",
       "    </tr>\n",
       "    <tr>\n",
       "      <th>Royal Challengers Bangalore</th>\n",
       "      <td>3</td>\n",
       "      <td>5</td>\n",
       "      <td>8</td>\n",
       "    </tr>\n",
       "    <tr>\n",
       "      <th>Delhi Capitals</th>\n",
       "      <td>2</td>\n",
       "      <td>5</td>\n",
       "      <td>7</td>\n",
       "    </tr>\n",
       "    <tr>\n",
       "      <th>Sunrisers Hyderabad</th>\n",
       "      <td>3</td>\n",
       "      <td>4</td>\n",
       "      <td>7</td>\n",
       "    </tr>\n",
       "    <tr>\n",
       "      <th>Kolkata Knight Riders</th>\n",
       "      <td>1</td>\n",
       "      <td>4</td>\n",
       "      <td>5</td>\n",
       "    </tr>\n",
       "    <tr>\n",
       "      <th>Punjab Kings</th>\n",
       "      <td>1</td>\n",
       "      <td>4</td>\n",
       "      <td>5</td>\n",
       "    </tr>\n",
       "    <tr>\n",
       "      <th>Lucknow Super Giants</th>\n",
       "      <td>0</td>\n",
       "      <td>3</td>\n",
       "      <td>3</td>\n",
       "    </tr>\n",
       "  </tbody>\n",
       "</table>\n",
       "</div>"
      ],
      "text/plain": [
       "toss_decision                bat  field  Total\n",
       "toss_won                                      \n",
       "Chennai Super Kings            4      6     10\n",
       "Mumbai Indians                 1      9     10\n",
       "Rajasthan Royals               4      6     10\n",
       "Gujarat Titans                 2      7      9\n",
       "Royal Challengers Bangalore    3      5      8\n",
       "Delhi Capitals                 2      5      7\n",
       "Sunrisers Hyderabad            3      4      7\n",
       "Kolkata Knight Riders          1      4      5\n",
       "Punjab Kings                   1      4      5\n",
       "Lucknow Super Giants           0      3      3"
      ]
     },
     "metadata": {},
     "output_type": "display_data"
    }
   ],
   "source": [
    "# monthly_match_count = pd.crosstab(match_records['venue'], match_records['match_type'], match_records['location'])\n",
    "toss_vs_choice = pd.crosstab(match_records['toss_won'], [match_records['toss_decision']])\n",
    "\n",
    "# Add a row total (sum of all values) for each toss_won\n",
    "toss_vs_choice['Total'] = toss_vs_choice.sum(axis=1)\n",
    "\n",
    "# Sort by month (alphabetically)\n",
    "toss_vs_choice = toss_vs_choice.sort_values(by='Total', ascending=False)\n",
    "\n",
    "# Print the monthly match count by match type\n",
    "print(f\"toss_vs_choice: \\n \")\n",
    "display(toss_vs_choice)"
   ]
  },
  {
   "cell_type": "code",
   "execution_count": 10,
   "id": "fb029489",
   "metadata": {},
   "outputs": [
    {
     "ename": "NameError",
     "evalue": "name 'bars' is not defined",
     "output_type": "error",
     "traceback": [
      "\u001b[1;31m---------------------------------------------------------------------------\u001b[0m",
      "\u001b[1;31mNameError\u001b[0m                                 Traceback (most recent call last)",
      "Cell \u001b[1;32mIn[10], line 6\u001b[0m\n\u001b[0;32m      3\u001b[0m toss_vs_choice\u001b[38;5;241m.\u001b[39mplot(kind\u001b[38;5;241m=\u001b[39m\u001b[38;5;124m'\u001b[39m\u001b[38;5;124mbar\u001b[39m\u001b[38;5;124m'\u001b[39m, stacked\u001b[38;5;241m=\u001b[39m\u001b[38;5;28;01mTrue\u001b[39;00m, color\u001b[38;5;241m=\u001b[39m[\u001b[38;5;124m'\u001b[39m\u001b[38;5;124mskyblue\u001b[39m\u001b[38;5;124m'\u001b[39m, \u001b[38;5;124m'\u001b[39m\u001b[38;5;124mcoral\u001b[39m\u001b[38;5;124m'\u001b[39m])\n\u001b[0;32m      5\u001b[0m \u001b[38;5;66;03m# Add value labels above bars\u001b[39;00m\n\u001b[1;32m----> 6\u001b[0m \u001b[38;5;28;01mfor\u001b[39;00m bar_i \u001b[38;5;129;01min\u001b[39;00m \u001b[38;5;28mrange\u001b[39m(\u001b[38;5;28mlen\u001b[39m(bars\u001b[38;5;241m.\u001b[39mcontainers)):  \u001b[38;5;66;03m# Loop through each set of bars\u001b[39;00m\n\u001b[0;32m      7\u001b[0m     \u001b[38;5;28;01mfor\u001b[39;00m bar, label \u001b[38;5;129;01min\u001b[39;00m \u001b[38;5;28mzip\u001b[39m(bars\u001b[38;5;241m.\u001b[39mcontainers[bar_i], monthly_match_info\u001b[38;5;241m.\u001b[39miloc[:, bar_i]):\n\u001b[0;32m      8\u001b[0m         yval \u001b[38;5;241m=\u001b[39m bar\u001b[38;5;241m.\u001b[39mget_height()\n",
      "\u001b[1;31mNameError\u001b[0m: name 'bars' is not defined"
     ]
    },
    {
     "data": {
      "text/plain": [
       "<Figure size 800x600 with 0 Axes>"
      ]
     },
     "metadata": {},
     "output_type": "display_data"
    },
    {
     "data": {
      "image/png": "[encoded data removed]",
      "text/plain": [
       "<Figure size 640x480 with 1 Axes>"
      ]
     },
     "metadata": {},
     "output_type": "display_data"
    }
   ],
   "source": [
    "# Create a stacked bar chart\n",
    "plt.figure(figsize=(8, 6))  # Adjust figure size as needed\n",
    "toss_vs_choice.plot(kind='bar', stacked=True, color=['skyblue', 'coral'])\n",
    "\n",
    "# Add value labels above bars\n",
    "for bar_i in range(len(bars.containers)):  # Loop through each set of bars\n",
    "    for bar, label in zip(bars.containers[bar_i], monthly_match_info.iloc[:, bar_i]):\n",
    "        yval = bar.get_height()\n",
    "        plt.text(bar.get_x() + bar.get_width() / 2, yval + 0.1, int(label), ha='center', va='bottom')\n",
    "\n",
    "plt.xlabel(\"Toss Won\")\n",
    "plt.ylabel(\"Count\")\n",
    "plt.title(\"Choice After Winning Toss (Bat/Bowl)\")\n",
    "plt.xticks(rotation=90)  # Rotate x-axis labels for readability\n",
    "plt.legend(title=\"Decision After Toss Win\", loc='upper right')  # Add a legend\n",
    "plt.tight_layout()\n",
    "plt.show()"
   ]
  },
  {
   "cell_type": "markdown",
   "id": "b84429af",
   "metadata": {},
   "source": [
    "## Count of appearances by umpires"
   ]
  },
  {
   "cell_type": "code",
   "execution_count": 11,
   "id": "ceb78840",
   "metadata": {},
   "outputs": [
    {
     "name": "stdout",
     "output_type": "stream",
     "text": [
      "Most appearances as an umpire is by: Nitin Menon \n",
      "\n",
      "Count of appearances by umpires: \n",
      " \n"
     ]
    },
    {
     "data": {
      "text/plain": [
       "Nitin Menon              11\n",
       "AK Chaudhary             10\n",
       "VK Sharma                10\n",
       "RJ Tucker                10\n",
       "KN Ananthapadmanabhan     9\n",
       "Name: count, dtype: int64"
      ]
     },
     "metadata": {},
     "output_type": "display_data"
    }
   ],
   "source": [
    "# Combine umpire1 and umpire2 into a single Series\n",
    "umpires = match_records[['umpire1', 'umpire2']].stack()\n",
    "umpires.value_counts()\n",
    "\n",
    "# Count appearances of each umpire\n",
    "umpire_appearances = umpires.value_counts()\n",
    "\n",
    "# Find the umpire(s) with the most appearances\n",
    "most_appearances = umpire_appearances.idxmax()  # Index of the maximum value\n",
    "\n",
    "print(f\"Most appearances as an umpire is by: {most_appearances} \\n\")\n",
    "print(f\"Count of appearances by umpires: \\n \")\n",
    "display(umpires.value_counts().head())"
   ]
  },
  {
   "cell_type": "markdown",
   "id": "ba726322",
   "metadata": {},
   "source": [
    "## Count of appearances of reserve umpires"
   ]
  },
  {
   "cell_type": "code",
   "execution_count": 137,
   "id": "c5ec6b0f",
   "metadata": {},
   "outputs": [
    {
     "name": "stdout",
     "output_type": "stream",
     "text": [
      "Count of appearances of reserve umpires: \n",
      " reserve_umpire\n",
      "A Bengeri                9\n",
      "PM Joshi                 9\n",
      "Abhijit Bhattacharya     9\n",
      "M Krishnadas             9\n",
      "VM Dhokre                9\n",
      "P Joshi                  9\n",
      "M Kuppuraj               8\n",
      "Mohamad Rafi             8\n",
      "VK Sharma                1\n",
      "AK Chaudhary             1\n",
      "KN Ananthapadmanabhan    1\n",
      "J Madanagopal            1\n",
      "Name: count, dtype: int64\n"
     ]
    }
   ],
   "source": [
    "print(f\"Count of appearances of reserve umpires: \\n {match_records['reserve_umpire'].value_counts()}\")"
   ]
  },
  {
   "cell_type": "markdown",
   "id": "24796aba",
   "metadata": {},
   "source": [
    "## Count of appearances of match referee"
   ]
  },
  {
   "cell_type": "code",
   "execution_count": 117,
   "id": "95cc6c80",
   "metadata": {},
   "outputs": [
    {
     "name": "stdout",
     "output_type": "stream",
     "text": [
      "Count of appearances of match referee: \n",
      " match_referee\n",
      "J Srinath          12\n",
      "M Nayyar           10\n",
      "V Narayan Kutty    10\n",
      "Shakti Singh        6\n",
      "Prakash Bhatt       6\n",
      "DS Manohar          5\n",
      "R Seth              5\n",
      "Amit Sharma         5\n",
      "P Dharmani          5\n",
      "Sanjay Verma        4\n",
      "SA Satbhai          2\n",
      "SS Raul             2\n",
      "RS Sodhi            2\n",
      "Name: count, dtype: int64\n",
      "Most appearances as a referee is by: J Srinath \n",
      "\n"
     ]
    }
   ],
   "source": [
    "print(f\"Count of appearances of match referee: \\n {match_records['match_referee'].value_counts()}\")\n",
    "\n",
    "# Count appearances of each referee\n",
    "match_referee = match_records['match_referee'].value_counts()\n",
    "\n",
    "# Find the umpire(s) with the most appearances\n",
    "most_appearances_referee = match_referee.idxmax()  # Index of the maximum value\n",
    "\n",
    "print(f\"Most appearances as a referee is by: {most_appearances_referee} \\n\")"
   ]
  },
  {
   "cell_type": "markdown",
   "id": "bd143649",
   "metadata": {},
   "source": [
    "## Season [2023] winner"
   ]
  },
  {
   "cell_type": "code",
   "execution_count": 176,
   "id": "769ab278",
   "metadata": {},
   "outputs": [
    {
     "name": "stdout",
     "output_type": "stream",
     "text": [
      "Season [2023] winner was: Chennai Super Kings. \n",
      "Played against: Gujarat Titans\n"
     ]
    }
   ],
   "source": [
    "# print(f\"Season {match_records.season.unique()} winner was: {match_records.winner.tail(1)} \")\n",
    "print(f\"Season {match_records.season.unique()} winner was: {match_records.iloc[-1]['winner']}. \\nPlayed against: {match_records.iloc[-1]['team2']}\")"
   ]
  },
  {
   "cell_type": "markdown",
   "id": "986299dd",
   "metadata": {},
   "source": [
    "## Most man of matches"
   ]
  },
  {
   "cell_type": "code",
   "execution_count": 179,
   "id": "20d57fed",
   "metadata": {
    "scrolled": true
   },
   "outputs": [
    {
     "name": "stdout",
     "output_type": "stream",
     "text": [
      "Most man of matches: \n",
      " man_of_match\n",
      "Shubman Gill    4\n",
      "YBK Jaiswal     4\n",
      "MP Stoinis      3\n",
      "Name: count, dtype: int64\n"
     ]
    }
   ],
   "source": [
    "# Most man of matches\n",
    "print(f\"Most man of matches: \\n {match_records['man_of_match'].value_counts().head(3)}\")"
   ]
  },
  {
   "cell_type": "markdown",
   "id": "5ed7caab",
   "metadata": {},
   "source": [
    "## List of teams who won by most number of runs"
   ]
  },
  {
   "cell_type": "code",
   "execution_count": 283,
   "id": "1e77b1a8",
   "metadata": {},
   "outputs": [
    {
     "name": "stdout",
     "output_type": "stream",
     "text": [
      "List of teams who won by most number of runs:\n"
     ]
    },
    {
     "data": {
      "text/plain": [
       "winner\n",
       "Royal Challengers Bangalore    112.0\n",
       "Kolkata Knight Riders           81.0\n",
       "Mumbai Indians                  81.0\n",
       "Chennai Super Kings             77.0\n",
       "Rajasthan Royals                72.0\n",
       "Gujarat Titans                  62.0\n",
       "Lucknow Super Giants            56.0\n",
       "Punjab Kings                    31.0\n",
       "Sunrisers Hyderabad             23.0\n",
       "Delhi Capitals                  15.0\n",
       "No Result                        NaN\n",
       "Name: winner_runs, dtype: float64"
      ]
     },
     "execution_count": 283,
     "metadata": {},
     "output_type": "execute_result"
    }
   ],
   "source": [
    "print(f\"List of teams who won by most number of runs:\")\n",
    "match_records.groupby('winner')['winner_runs'].max().sort_values(ascending=False)"
   ]
  },
  {
   "cell_type": "markdown",
   "id": "86bfcdea",
   "metadata": {},
   "source": [
    "## List of teams who won by most number of wickets"
   ]
  },
  {
   "cell_type": "code",
   "execution_count": 12,
   "id": "3dfeaa44",
   "metadata": {},
   "outputs": [
    {
     "name": "stdout",
     "output_type": "stream",
     "text": [
      "List of teams who won by most number of wickets:\n"
     ]
    },
    {
     "data": {
      "text/plain": [
       "winner\n",
       "Gujarat Titans                 9.0\n",
       "Rajasthan Royals               9.0\n",
       "Mumbai Indians                 8.0\n",
       "Royal Challengers Bangalore    8.0\n",
       "Sunrisers Hyderabad            8.0\n",
       "Chennai Super Kings            7.0\n",
       "Delhi Capitals                 7.0\n",
       "Lucknow Super Giants           7.0\n",
       "Kolkata Knight Riders          6.0\n",
       "Punjab Kings                   4.0\n",
       "No Result                      NaN\n",
       "Name: winner_wickets, dtype: float64"
      ]
     },
     "execution_count": 12,
     "metadata": {},
     "output_type": "execute_result"
    }
   ],
   "source": [
    "print(f\"List of teams who won by most number of wickets:\")\n",
    "match_records.groupby('winner')['winner_wickets'].max().sort_values(ascending=False)"
   ]
  },
  {
   "cell_type": "markdown",
   "id": "209e7b4e",
   "metadata": {},
   "source": [
    "## Number of times where matches has no-results/tied matches"
   ]
  },
  {
   "cell_type": "code",
   "execution_count": 23,
   "id": "65870693",
   "metadata": {},
   "outputs": [
    {
     "name": "stdout",
     "output_type": "stream",
     "text": [
      "Number of times where matches has no-results/tied matches is: 1\n"
     ]
    }
   ],
   "source": [
    "print(f\"Number of times where matches has no-results/tied matches is: { (match_records['winner'] == 'No Result').sum() }\")\n"
   ]
  },
  {
   "cell_type": "code",
   "execution_count": null,
   "id": "2cdf6968",
   "metadata": {},
   "outputs": [],
   "source": []
  },
  {
   "cell_type": "markdown",
   "id": "9f05419e",
   "metadata": {},
   "source": [
    "<h2><span style=\"color: #903300;\">Each ball record</span></h2>"
   ]
  },
  {
   "cell_type": "code",
   "execution_count": 1,
   "id": "55899b1a",
   "metadata": {},
   "outputs": [
    {
     "name": "stderr",
     "output_type": "stream",
     "text": [
      "C:\\Users\\User\\anaconda3\\Lib\\site-packages\\pandas\\core\\arrays\\masked.py:60: UserWarning: Pandas requires version '1.3.6' or newer of 'bottleneck' (version '1.3.5' currently installed).\n",
      "  from pandas.core import (\n"
     ]
    }
   ],
   "source": [
    "import numpy as np\n",
    "import pandas as pd"
   ]
  },
  {
   "cell_type": "code",
   "execution_count": 15,
   "id": "878d88a5",
   "metadata": {},
   "outputs": [
    {
     "data": {
      "text/html": [
       "<div>\n",
       "<style scoped>\n",
       "    .dataframe tbody tr th:only-of-type {\n",
       "        vertical-align: middle;\n",
       "    }\n",
       "\n",
       "    .dataframe tbody tr th {\n",
       "        vertical-align: top;\n",
       "    }\n",
       "\n",
       "    .dataframe thead th {\n",
       "        text-align: right;\n",
       "    }\n",
       "</style>\n",
       "<table border=\"1\" class=\"dataframe\">\n",
       "  <thead>\n",
       "    <tr style=\"text-align: right;\">\n",
       "      <th></th>\n",
       "      <th>match_no</th>\n",
       "      <th>ballnumber</th>\n",
       "      <th>inningno</th>\n",
       "      <th>over</th>\n",
       "      <th>outcome</th>\n",
       "      <th>batter</th>\n",
       "      <th>bowler</th>\n",
       "      <th>comment</th>\n",
       "      <th>score</th>\n",
       "    </tr>\n",
       "  </thead>\n",
       "  <tbody>\n",
       "    <tr>\n",
       "      <th>0</th>\n",
       "      <td>1</td>\n",
       "      <td>1</td>\n",
       "      <td>1</td>\n",
       "      <td>0.1</td>\n",
       "      <td>0</td>\n",
       "      <td>Devon Conway</td>\n",
       "      <td>Mohammed Shami</td>\n",
       "      <td>Mohammed Shami to Devon Conway, no run,</td>\n",
       "      <td>0</td>\n",
       "    </tr>\n",
       "  </tbody>\n",
       "</table>\n",
       "</div>"
      ],
      "text/plain": [
       "   match_no  ballnumber  inningno  over outcome        batter          bowler  \\\n",
       "0         1           1         1   0.1       0  Devon Conway  Mohammed Shami   \n",
       "\n",
       "                                   comment  score  \n",
       "0  Mohammed Shami to Devon Conway, no run,      0  "
      ]
     },
     "execution_count": 15,
     "metadata": {},
     "output_type": "execute_result"
    }
   ],
   "source": [
    "ball_records = pd.read_csv(r\"C:\\Users\\User\\Documents\\Python Scripts\\IPL\\each_ball_records.csv\")\n",
    "ball_records.head(1)"
   ]
  },
  {
   "cell_type": "markdown",
   "id": "899e26e9",
   "metadata": {},
   "source": [
    "## Finding unique values in each column"
   ]
  },
  {
   "cell_type": "code",
   "execution_count": 97,
   "id": "d4f5ac2b",
   "metadata": {},
   "outputs": [
    {
     "name": "stdout",
     "output_type": "stream",
     "text": [
      "match_no\n",
      "[ 1  2  3  4  5  6  7  8  9 10 11 12 13 14 15 16 17 18 19 20 21 22 23 24\n",
      " 25 26 27 28 29 30 31 32 33 34 35 36 37 38 39 40 41 42 43 44 45 46 47 48\n",
      " 49 50 51 52 53 54 55 56 57 58 59 60 61 62 63 64 65 66 67 68 69 70 71 72\n",
      " 73 74]\n",
      "ballnumber\n",
      "[  1   2   3   4   5   6   7   8   9  10  11  12  13  14  15  16  17  18\n",
      "  19  20  21  22  23  24  25  26  27  28  29  30  31  32  33  34  35  36\n",
      "  37  38  39  40  41  42  43  44  45  46  47  48  49  50  51  52  53  54\n",
      "  55  56  57  58  59  60  61  62  63  64  65  66  67  68  69  70  71  72\n",
      "  73  74  75  76  77  78  79  80  81  82  83  84  85  86  87  88  89  90\n",
      "  91  92  93  94  95  96  97  98  99 100 101 102 103 104 105 106 107 108\n",
      " 109 110 111 112 113 114 115 116 117 118 119 120 121 122 123 124 125 126\n",
      " 127 128 129 130 131 132 133 134 135 136]\n",
      "inningno\n",
      "[1 2]\n",
      "over\n",
      "[ 0.1  0.2  0.3  0.4  0.5  0.6  1.1  1.2  1.3  1.4  1.5  1.6  2.1  2.2\n",
      "  2.3  2.4  2.5  2.6  3.1  3.2  3.3  3.4  3.5  3.6  4.1  4.2  4.3  4.4\n",
      "  4.5  4.6  5.1  5.2  5.3  5.4  5.5  5.6  6.1  6.2  6.3  6.4  6.5  6.6\n",
      "  7.1  7.2  7.3  7.4  7.5  7.6  8.1  8.2  8.3  8.4  8.5  8.6  9.1  9.2\n",
      "  9.3  9.4  9.5  9.6 10.1 10.2 10.3 10.4 10.5 10.6 11.1 11.2 11.3 11.4\n",
      " 11.5 11.6 12.1 12.2 12.3 12.4 12.5 12.6 13.1 13.2 13.3 13.4 13.5 13.6\n",
      " 14.1 14.2 14.3 14.4 14.5 14.6 15.1 15.2 15.3 15.4 15.5 15.6 16.1 16.2\n",
      " 16.3 16.4 16.5 16.6 17.1 17.2 17.3 17.4 17.5 17.6 18.1 18.2 18.3 18.4\n",
      " 18.5 18.6 19.1 19.2 19.3 19.4 19.5 19.6]\n",
      "outcome\n",
      "['0' '1lb' '1' '4' 'w' '6' '1nb' '4lb' '2' '1b' '1wd' '2nb' '5nb' '7nb'\n",
      " '3' '5wd' '4b' '2wd' '5' '3wd' '2lb' '3nb' '2b']\n",
      "batter\n",
      "['Devon Conway' 'Ruturaj Gaikwad' 'Moeen Ali' 'Ben S' 'Ambati Rayudu'\n",
      " 'Shivam Dube' 'Ravindra Jadeja' 'MS Dhoni' 'Mitchell Santner'\n",
      " 'Wriddhiman Saha' 'Shubman Gill' 'Sai Sudharsan' 'Hardik Pandya'\n",
      " 'Vijay Shankar' 'Rahul Tewatia' 'Rashid Khan' 'Prabhsimran Singh'\n",
      " 'Shikhar Dhawan' 'Bhanuka Rajapaksa' 'Jitesh Sharma' 'Sikandar Raza'\n",
      " 'Sam Curran' 'Shahrukh Khan' 'Mandeep Singh' 'Rahmanullah Gurbaz'\n",
      " 'Anukul Roy' 'Venkatesh Iyer' 'Nitish Rana' 'Rinku Singh' 'Andre Russell'\n",
      " 'Shardul Thakur' 'Sunil Narine' 'KL Rahul' 'Kyle Mayers' 'Deepak Hooda'\n",
      " 'Krunal Pandya' 'Marcus S' 'Nicholas Pooran' 'Ayush Badoni'\n",
      " 'Krishnappa Gowtham' 'Prithvi Shaw' 'David Warner' 'Mitchell Marsh'\n",
      " 'Sarfaraz Khan' 'Rilee Rossouw' 'Rovman Powell' 'Aman Hakim Khan'\n",
      " 'Axar Patel' 'Kuldeep Yadav' 'Chetan Sakariya' 'Mukesh Kumar'\n",
      " 'Yashasvi Jaiswal' 'Jos Buttler' 'n Sundar' 'Sanju Samson'\n",
      " 'Devdutt Padikkal' 'Riyan Parag' 'Shimron Hetmyer' 'Ravichandran Ashwin'\n",
      " 'Abhishek Sharma' 'Rahul Tripathi' 'Harry Brook' 'Mayank Agarwal'\n",
      " 'Washing' 'Glenn Phillips' 'Abdul Samad' 'Adil Rashid'\n",
      " 'Bhuvneshwar Kumar' 'Umran Malik' 'Rohit Sharma' 'Ishan Kishan'\n",
      " 'Cameron Green' 'Suryakumar Yadav' 'Tilak Varma' 'Nehal Wadhera'\n",
      " 'Tim David' 'Hrithik Shokeen' 'Arshad Khan' 'Virat Kohli'\n",
      " 'Faf du Plessis' 'Dinesh Karthik' 'Glenn Maxwell' 'kes' 'Mark Wood'\n",
      " 'Abishek Porel' 'Anrich Nortje' 'David Miller' 'Dhruv Jurel'\n",
      " 'Jason Holder' 'Umesh Yadav' 'Michael Bracewell' 'Harshal Patel'\n",
      " 'Shahbaz Ahmed' 'Anuj Rawat' 'David Willey' 'Karn Sharma' 'Akash Deep'\n",
      " 'Anmolpreet Singh' 'Aiden Markram' 'Romario Shepherd' 'Manish Pandey'\n",
      " 'Lalit Yadav' 'rius' 'Tristan Stubbs' 'Piyush Chawla' 'Ajinkya Rahane'\n",
      " 'Abhinav Manohar' 'Narayan Jagadeesan' 'Matthew Short' 'Harpreet Brar'\n",
      " 'Rahul Chahar' 'Nathan Ellis' 'Mohit Rathee' 'Jaydev Unadkat'\n",
      " 'Ravi Bishnoi' 'Avesh Khan' 'Yash Dhull' 'Mustafizur Rahman' 'Adam Zampa'\n",
      " 'Rishi Dhawan' 'Heinrich Klaasen' 'Mahipal Lomror' 'Yudhvir Singh'\n",
      " 'Atharva Taide' 'Harpreet Singh' 'Kagiso Rabada' 'Trent Boult'\n",
      " 'Suyash Prabhudessai' 'Wayne Parnell' 'Wanindu Hasaranga' 'Marco Jansen'\n",
      " 'Mayank Markande' 'inis' 'ne' 'Liam Livings' 'Jason Roy' 'Lit'\n",
      " 'Varun Chakravarthy' 'Philip Salt' 'Jofra Archer' 'Vijaykumar Vyshak'\n",
      " 'Mohammed Siraj' 'Abdul Basith' 'David Wiese' 'Ripal Patel'\n",
      " 'Ishant Sharma' 'Arjun Tendulkar' 'Jason Behrendorff' 'Riley Meredith'\n",
      " 'Arshdeep Singh' 'Akeal Hosein' 'Priyam Garg' 'Josh Hazlewood'\n",
      " 'Amit Mishra' 'Naveen-ul-Haq' 'Manan Vohra' 'Karan Sharma' 'Harshit Rana'\n",
      " 'Vaibhav Arora' 'Sandeep Sharma' 'Quin' 'Swapnil Singh' 'Kedar Jadhav'\n",
      " 'Deepak Chahar' 'Tushar Deshpande' 'Vishnu Vinod' 'Noor Ahmad'\n",
      " 'Alzarri Joseph' 'Prerak Mankad' 'Praveen Dubey' 'Joe Root' 'KM Asif'\n",
      " 'Dasun Shanaka' 'Mohammed Shami' 'Mohit Sharma' 'Sanvir Singh'\n",
      " 'Fazalhaq Farooqi' 'Vivrant Sharma' 'Darshan Nalkande' 'Chris Jordan'\n",
      " 'Mohsin Khan' 'Kumar Kartikeya']\n",
      "bowler\n",
      "['Mohammed Shami' 'Hardik Pandya' 'Josh Little' 'Rashid Khan'\n",
      " 'Alzarri Joseph' 'Yash Dayal' 'Deepak Chahar' 'Tushar Deshpande'\n",
      " 'Rajvardhan Hangargekar' 'Mitchell Santner' 'Ravindra Jadeja'\n",
      " 'Umesh Yadav' 'Tim Southee' 'Sunil Narine' 'Varun Chakravarthy'\n",
      " 'Shardul Thakur' 'Sam Curran' 'Arshdeep Singh' 'Nathan Ellis'\n",
      " 'Sikandar Raza' 'Rishi Dhawan' 'Rahul Chahar' 'Harpreet Brar'\n",
      " 'Khaleel Ahmed' 'Mukesh Kumar' 'Chetan Sakariya' 'Axar Patel'\n",
      " 'Kuldeep Yadav' 'Kyle Mayers' 'Jaydev Unadkat' 'Krishnappa Gowtham'\n",
      " 'Avesh Khan' 'Mark Wood' 'Ravi Bishnoi' 'Bhuvneshwar Kumar'\n",
      " 'Fazalhaq Farooqi' 'Washing' 'T Natarajan' 'Adil Rashid' 'Umran Malik'\n",
      " 'Trent Boult' 'KM Asif' 'Jason Holder' 'Ravichandran Ashwin'\n",
      " 'Yuzvendra Chahal' 'Navdeep Saini' 'Mohammed Siraj' 'Reece Topley'\n",
      " 'Akash Deep' 'Harshal Patel' 'Karn Sharma' 'Michael Bracewell'\n",
      " 'Glenn Maxwell' 'Jason Behrendorff' 'Arshad Khan' 'Jofra Archer'\n",
      " 'Piyush Chawla' 'Cameron Green' 'Hrithik Shokeen' 'Krunal Pandya'\n",
      " 'Yash Thakur' 'Ben S' 'Moeen Ali' 'Anrich Nortje' 'Mitchell Marsh'\n",
      " 'David Willey' 'Shahbaz Ahmed' 'Suyash Sharma' 'Deepak Hooda'\n",
      " 'Amit Mishra' 'Aiden Markram' 'Rovman Powell' 'Sandeep Sharma'\n",
      " 'Murugan Ashwin' 'Sisanda Magala' 'Dwaine Pre' 'Kumar Kartikeya'\n",
      " 'Lockie Ferguson' 'Marco Jansen' 'Mayank Markande' 'Mohit Rathee'\n",
      " 'Wayne Parnell' 'Riley Meredith' 'Tilak Varma' 'Mustafizur Rahman'\n",
      " 'Lalit Yadav' 'Akash Singh' 'Maheesh Theekshana' 'Kuldeep Sen'\n",
      " 'Adam Zampa' 'Mohit Sharma' 'Kagiso Rabada' 'Matthew Short'\n",
      " 'Andre Russell' 'Vijaykumar Vyshak' 'Wanindu Hasaranga' 'Yudhvir Singh'\n",
      " 'Arjun Tendulkar' 'Duan Jansen' 'Noor Ahmad' 'Matheesha Pathirana'\n",
      " 'Naveen-ul-Haq' 'Marcus S' 'Liam Livings' 'Ishant Sharma'\n",
      " 'Kulwant Khejroliya' 'Anukul Roy' 'Nitish Rana' 'Mayank Dagar'\n",
      " 'Jayant Yadav' 'Rahul Tewatia' 'David Wiese' 'Vaibhav Arora'\n",
      " 'Kuldip Yadav' 'Gurnoor Brar' 'Ayush Badoni' 'Harshit Rana'\n",
      " 'Akeal Hosein' 'Abhishek Sharma' 'Josh Hazlewood' 'Mahipal Lomror'\n",
      " 'Akash Madhwal' 'Kartik Tyagi' 'Raghav Goyal' 'Tristan Stubbs'\n",
      " 'Mohsin Khan' 'Swapnil Singh' 'Vivrant Sharma' 'Obed McCoy'\n",
      " 'Chris Jordan' 'Joe Root' 'Glenn Phillips' 'Praveen Dubey'\n",
      " 'Nitish Kumar Reddy' 'Himanshu Sharma' 'Darshan Nalkande']\n",
      "comment\n",
      "['Mohammed Shami to Devon Conway, no run,'\n",
      " 'Mohammed Shami to Devon Conway, 1 leg bye,'\n",
      " 'Mohammed Shami to Ruturaj Gaikwad, no run,' ...\n",
      " 'Mohammed Shami to Shivam Dube, no run,'\n",
      " 'Mohammed Shami to Shivam Dube, 1 run,'\n",
      " 'Mohit Sharma to Ravindra Jadeja, Six,']\n",
      "score\n",
      "[0 1 4 6 2 5 7 3]\n",
      "inning_score\n",
      "[  0   1   2   6  10  11  12  13  14  20  24  25  29  30  34  35  41  45\n",
      "  46  50  51  52  58  64  65  66  70  71  72  78  84  90  91  92  93  94\n",
      " 100 101 107 108 114 115 116 120 121 122 123 124 125 126 127 131 132 133\n",
      " 134 135 136 138 140 146 148 149 150 151 152 153 154 155 157 163 164 165\n",
      " 166 167 173 177 178   3   9  18  19  21  22  28  31  36  37  48  54  55\n",
      "  56  60  61  68  69  76  77  81  82  83  86  87  89  95  96 106 109 110\n",
      " 111 113 119 128 129 139 144 145 147 156 160 161 171 172 182   8  17  23\n",
      "  32  33  40  44  62  75  79  80  85  97  98  99 104 105 112 142 143 158\n",
      " 168 169 170 175 176 180 181 187 189 191  38  42  47  49  53  59 117 118\n",
      " 130 137   4   7  26  27  39  57  63  73  74 102 103 141 174 193  43  88\n",
      "   5  16 159 186 192 195 197 201 203 162 184 185 194 196 202 209 215 216\n",
      " 217 179 183 188 190 199 205  67 198 204  15 207 200 211 212 206 208 213\n",
      " 219 220 226 227 228 210 214 223 224 225 218 232 233 235 222 229 239 241\n",
      " 245 246 250 251 255 256 257 221]\n"
     ]
    }
   ],
   "source": [
    "# Finding unique values in each column\n",
    "for col in ball_records.columns:\n",
    "    print(col)\n",
    "    print(ball_records[col].unique())"
   ]
  },
  {
   "cell_type": "markdown",
   "id": "c9b8779a",
   "metadata": {},
   "source": [
    "## Total number of matches conducted"
   ]
  },
  {
   "cell_type": "code",
   "execution_count": 3,
   "id": "e306bcda",
   "metadata": {},
   "outputs": [
    {
     "name": "stdout",
     "output_type": "stream",
     "text": [
      "Total number of matches conducted was: 74\n"
     ]
    }
   ],
   "source": [
    "print(f\"Total number of matches conducted was: {ball_records.match_no.max()}\")"
   ]
  },
  {
   "cell_type": "markdown",
   "id": "930ad5ac",
   "metadata": {},
   "source": [
    "## Total number of balls bowled in each match"
   ]
  },
  {
   "cell_type": "code",
   "execution_count": 288,
   "id": "1e9b2bd8",
   "metadata": {
    "scrolled": true
   },
   "outputs": [
    {
     "name": "stdout",
     "output_type": "stream",
     "text": [
      "Total number of balls bowled in each match:\n"
     ]
    },
    {
     "data": {
      "text/plain": [
       "match_no\n",
       "48    114\n",
       "74    117\n",
       "45    118\n",
       "56    121\n",
       "34    121\n",
       "Name: ballnumber, dtype: int64"
      ]
     },
     "execution_count": 288,
     "metadata": {},
     "output_type": "execute_result"
    }
   ],
   "source": [
    "print(f\"Total number of balls bowled in each match:\")\n",
    "ball_records.groupby('match_no')['ballnumber'].max().sort_values(ascending=True).head()"
   ]
  },
  {
   "cell_type": "markdown",
   "id": "5a989f71",
   "metadata": {},
   "source": [
    "## Number of balls bowled in first match"
   ]
  },
  {
   "cell_type": "code",
   "execution_count": 292,
   "id": "0bce67d2",
   "metadata": {
    "scrolled": true
   },
   "outputs": [
    {
     "name": "stdout",
     "output_type": "stream",
     "text": [
      "243 were bowled in 1st match\n"
     ]
    }
   ],
   "source": [
    "a = ball_records[ball_records['match_no'] == 1]\n",
    "# print(f\"{a['team1'].unique()} VS {a['team2'].unique()}\")\n",
    "print(a['ballnumber'].count(),'were bowled in 1st match')"
   ]
  },
  {
   "cell_type": "markdown",
   "id": "1b5c14bb",
   "metadata": {},
   "source": [
    "## Ball vs outcome in each match"
   ]
  },
  {
   "cell_type": "code",
   "execution_count": 118,
   "id": "83182a30",
   "metadata": {
    "scrolled": true
   },
   "outputs": [
    {
     "name": "stdout",
     "output_type": "stream",
     "text": [
      "Ball vs outcome in each match is:\n",
      "\n"
     ]
    },
    {
     "data": {
      "text/html": [
       "<div>\n",
       "<style scoped>\n",
       "    .dataframe tbody tr th:only-of-type {\n",
       "        vertical-align: middle;\n",
       "    }\n",
       "\n",
       "    .dataframe tbody tr th {\n",
       "        vertical-align: top;\n",
       "    }\n",
       "\n",
       "    .dataframe thead th {\n",
       "        text-align: right;\n",
       "    }\n",
       "</style>\n",
       "<table border=\"1\" class=\"dataframe\">\n",
       "  <thead>\n",
       "    <tr style=\"text-align: right;\">\n",
       "      <th>outcome</th>\n",
       "      <th>0</th>\n",
       "      <th>1</th>\n",
       "      <th>1b</th>\n",
       "      <th>1lb</th>\n",
       "      <th>1nb</th>\n",
       "      <th>1wd</th>\n",
       "      <th>2</th>\n",
       "      <th>2b</th>\n",
       "      <th>2lb</th>\n",
       "      <th>2nb</th>\n",
       "      <th>...</th>\n",
       "      <th>3wd</th>\n",
       "      <th>4</th>\n",
       "      <th>4b</th>\n",
       "      <th>4lb</th>\n",
       "      <th>5</th>\n",
       "      <th>5nb</th>\n",
       "      <th>5wd</th>\n",
       "      <th>6</th>\n",
       "      <th>7nb</th>\n",
       "      <th>w</th>\n",
       "    </tr>\n",
       "    <tr>\n",
       "      <th>match_no</th>\n",
       "      <th></th>\n",
       "      <th></th>\n",
       "      <th></th>\n",
       "      <th></th>\n",
       "      <th></th>\n",
       "      <th></th>\n",
       "      <th></th>\n",
       "      <th></th>\n",
       "      <th></th>\n",
       "      <th></th>\n",
       "      <th></th>\n",
       "      <th></th>\n",
       "      <th></th>\n",
       "      <th></th>\n",
       "      <th></th>\n",
       "      <th></th>\n",
       "      <th></th>\n",
       "      <th></th>\n",
       "      <th></th>\n",
       "      <th></th>\n",
       "      <th></th>\n",
       "    </tr>\n",
       "  </thead>\n",
       "  <tbody>\n",
       "    <tr>\n",
       "      <th>1</th>\n",
       "      <td>70</td>\n",
       "      <td>89</td>\n",
       "      <td>1</td>\n",
       "      <td>4</td>\n",
       "      <td>2</td>\n",
       "      <td>4</td>\n",
       "      <td>12</td>\n",
       "      <td>0</td>\n",
       "      <td>0</td>\n",
       "      <td>1</td>\n",
       "      <td>...</td>\n",
       "      <td>0</td>\n",
       "      <td>25</td>\n",
       "      <td>0</td>\n",
       "      <td>2</td>\n",
       "      <td>0</td>\n",
       "      <td>0</td>\n",
       "      <td>0</td>\n",
       "      <td>21</td>\n",
       "      <td>0</td>\n",
       "      <td>12</td>\n",
       "    </tr>\n",
       "    <tr>\n",
       "      <th>2</th>\n",
       "      <td>64</td>\n",
       "      <td>74</td>\n",
       "      <td>2</td>\n",
       "      <td>2</td>\n",
       "      <td>0</td>\n",
       "      <td>3</td>\n",
       "      <td>18</td>\n",
       "      <td>0</td>\n",
       "      <td>0</td>\n",
       "      <td>1</td>\n",
       "      <td>...</td>\n",
       "      <td>0</td>\n",
       "      <td>29</td>\n",
       "      <td>0</td>\n",
       "      <td>0</td>\n",
       "      <td>0</td>\n",
       "      <td>1</td>\n",
       "      <td>0</td>\n",
       "      <td>15</td>\n",
       "      <td>1</td>\n",
       "      <td>12</td>\n",
       "    </tr>\n",
       "    <tr>\n",
       "      <th>3</th>\n",
       "      <td>77</td>\n",
       "      <td>85</td>\n",
       "      <td>1</td>\n",
       "      <td>2</td>\n",
       "      <td>1</td>\n",
       "      <td>9</td>\n",
       "      <td>21</td>\n",
       "      <td>0</td>\n",
       "      <td>0</td>\n",
       "      <td>0</td>\n",
       "      <td>...</td>\n",
       "      <td>0</td>\n",
       "      <td>20</td>\n",
       "      <td>0</td>\n",
       "      <td>0</td>\n",
       "      <td>0</td>\n",
       "      <td>0</td>\n",
       "      <td>1</td>\n",
       "      <td>18</td>\n",
       "      <td>0</td>\n",
       "      <td>15</td>\n",
       "    </tr>\n",
       "    <tr>\n",
       "      <th>4</th>\n",
       "      <td>80</td>\n",
       "      <td>83</td>\n",
       "      <td>1</td>\n",
       "      <td>2</td>\n",
       "      <td>0</td>\n",
       "      <td>5</td>\n",
       "      <td>17</td>\n",
       "      <td>0</td>\n",
       "      <td>0</td>\n",
       "      <td>2</td>\n",
       "      <td>...</td>\n",
       "      <td>0</td>\n",
       "      <td>29</td>\n",
       "      <td>1</td>\n",
       "      <td>0</td>\n",
       "      <td>0</td>\n",
       "      <td>0</td>\n",
       "      <td>0</td>\n",
       "      <td>12</td>\n",
       "      <td>1</td>\n",
       "      <td>13</td>\n",
       "    </tr>\n",
       "    <tr>\n",
       "      <th>5</th>\n",
       "      <td>77</td>\n",
       "      <td>68</td>\n",
       "      <td>0</td>\n",
       "      <td>1</td>\n",
       "      <td>0</td>\n",
       "      <td>12</td>\n",
       "      <td>17</td>\n",
       "      <td>0</td>\n",
       "      <td>0</td>\n",
       "      <td>1</td>\n",
       "      <td>...</td>\n",
       "      <td>0</td>\n",
       "      <td>26</td>\n",
       "      <td>0</td>\n",
       "      <td>0</td>\n",
       "      <td>0</td>\n",
       "      <td>0</td>\n",
       "      <td>0</td>\n",
       "      <td>20</td>\n",
       "      <td>0</td>\n",
       "      <td>9</td>\n",
       "    </tr>\n",
       "    <tr>\n",
       "      <th>...</th>\n",
       "      <td>...</td>\n",
       "      <td>...</td>\n",
       "      <td>...</td>\n",
       "      <td>...</td>\n",
       "      <td>...</td>\n",
       "      <td>...</td>\n",
       "      <td>...</td>\n",
       "      <td>...</td>\n",
       "      <td>...</td>\n",
       "      <td>...</td>\n",
       "      <td>...</td>\n",
       "      <td>...</td>\n",
       "      <td>...</td>\n",
       "      <td>...</td>\n",
       "      <td>...</td>\n",
       "      <td>...</td>\n",
       "      <td>...</td>\n",
       "      <td>...</td>\n",
       "      <td>...</td>\n",
       "      <td>...</td>\n",
       "      <td>...</td>\n",
       "    </tr>\n",
       "    <tr>\n",
       "      <th>70</th>\n",
       "      <td>55</td>\n",
       "      <td>93</td>\n",
       "      <td>1</td>\n",
       "      <td>4</td>\n",
       "      <td>1</td>\n",
       "      <td>11</td>\n",
       "      <td>19</td>\n",
       "      <td>0</td>\n",
       "      <td>0</td>\n",
       "      <td>0</td>\n",
       "      <td>...</td>\n",
       "      <td>0</td>\n",
       "      <td>40</td>\n",
       "      <td>1</td>\n",
       "      <td>1</td>\n",
       "      <td>0</td>\n",
       "      <td>0</td>\n",
       "      <td>0</td>\n",
       "      <td>13</td>\n",
       "      <td>0</td>\n",
       "      <td>9</td>\n",
       "    </tr>\n",
       "    <tr>\n",
       "      <th>71</th>\n",
       "      <td>63</td>\n",
       "      <td>95</td>\n",
       "      <td>0</td>\n",
       "      <td>4</td>\n",
       "      <td>1</td>\n",
       "      <td>11</td>\n",
       "      <td>23</td>\n",
       "      <td>0</td>\n",
       "      <td>0</td>\n",
       "      <td>1</td>\n",
       "      <td>...</td>\n",
       "      <td>0</td>\n",
       "      <td>27</td>\n",
       "      <td>0</td>\n",
       "      <td>0</td>\n",
       "      <td>0</td>\n",
       "      <td>0</td>\n",
       "      <td>0</td>\n",
       "      <td>9</td>\n",
       "      <td>0</td>\n",
       "      <td>17</td>\n",
       "    </tr>\n",
       "    <tr>\n",
       "      <th>72</th>\n",
       "      <td>72</td>\n",
       "      <td>76</td>\n",
       "      <td>0</td>\n",
       "      <td>3</td>\n",
       "      <td>0</td>\n",
       "      <td>9</td>\n",
       "      <td>12</td>\n",
       "      <td>1</td>\n",
       "      <td>0</td>\n",
       "      <td>0</td>\n",
       "      <td>...</td>\n",
       "      <td>0</td>\n",
       "      <td>24</td>\n",
       "      <td>2</td>\n",
       "      <td>1</td>\n",
       "      <td>0</td>\n",
       "      <td>0</td>\n",
       "      <td>0</td>\n",
       "      <td>10</td>\n",
       "      <td>0</td>\n",
       "      <td>18</td>\n",
       "    </tr>\n",
       "    <tr>\n",
       "      <th>73</th>\n",
       "      <td>52</td>\n",
       "      <td>92</td>\n",
       "      <td>0</td>\n",
       "      <td>4</td>\n",
       "      <td>0</td>\n",
       "      <td>7</td>\n",
       "      <td>15</td>\n",
       "      <td>0</td>\n",
       "      <td>0</td>\n",
       "      <td>2</td>\n",
       "      <td>...</td>\n",
       "      <td>0</td>\n",
       "      <td>34</td>\n",
       "      <td>0</td>\n",
       "      <td>0</td>\n",
       "      <td>0</td>\n",
       "      <td>1</td>\n",
       "      <td>0</td>\n",
       "      <td>20</td>\n",
       "      <td>0</td>\n",
       "      <td>13</td>\n",
       "    </tr>\n",
       "    <tr>\n",
       "      <th>74</th>\n",
       "      <td>34</td>\n",
       "      <td>90</td>\n",
       "      <td>1</td>\n",
       "      <td>2</td>\n",
       "      <td>0</td>\n",
       "      <td>6</td>\n",
       "      <td>24</td>\n",
       "      <td>0</td>\n",
       "      <td>0</td>\n",
       "      <td>0</td>\n",
       "      <td>...</td>\n",
       "      <td>0</td>\n",
       "      <td>31</td>\n",
       "      <td>0</td>\n",
       "      <td>0</td>\n",
       "      <td>0</td>\n",
       "      <td>0</td>\n",
       "      <td>0</td>\n",
       "      <td>19</td>\n",
       "      <td>0</td>\n",
       "      <td>9</td>\n",
       "    </tr>\n",
       "  </tbody>\n",
       "</table>\n",
       "<p>74 rows × 23 columns</p>\n",
       "</div>"
      ],
      "text/plain": [
       "outcome    0   1  1b  1lb  1nb  1wd   2  2b  2lb  2nb  ...  3wd   4  4b  4lb  \\\n",
       "match_no                                               ...                     \n",
       "1         70  89   1    4    2    4  12   0    0    1  ...    0  25   0    2   \n",
       "2         64  74   2    2    0    3  18   0    0    1  ...    0  29   0    0   \n",
       "3         77  85   1    2    1    9  21   0    0    0  ...    0  20   0    0   \n",
       "4         80  83   1    2    0    5  17   0    0    2  ...    0  29   1    0   \n",
       "5         77  68   0    1    0   12  17   0    0    1  ...    0  26   0    0   \n",
       "...       ..  ..  ..  ...  ...  ...  ..  ..  ...  ...  ...  ...  ..  ..  ...   \n",
       "70        55  93   1    4    1   11  19   0    0    0  ...    0  40   1    1   \n",
       "71        63  95   0    4    1   11  23   0    0    1  ...    0  27   0    0   \n",
       "72        72  76   0    3    0    9  12   1    0    0  ...    0  24   2    1   \n",
       "73        52  92   0    4    0    7  15   0    0    2  ...    0  34   0    0   \n",
       "74        34  90   1    2    0    6  24   0    0    0  ...    0  31   0    0   \n",
       "\n",
       "outcome   5  5nb  5wd   6  7nb   w  \n",
       "match_no                            \n",
       "1         0    0    0  21    0  12  \n",
       "2         0    1    0  15    1  12  \n",
       "3         0    0    1  18    0  15  \n",
       "4         0    0    0  12    1  13  \n",
       "5         0    0    0  20    0   9  \n",
       "...      ..  ...  ...  ..  ...  ..  \n",
       "70        0    0    0  13    0   9  \n",
       "71        0    0    0   9    0  17  \n",
       "72        0    0    0  10    0  18  \n",
       "73        0    1    0  20    0  13  \n",
       "74        0    0    0  19    0   9  \n",
       "\n",
       "[74 rows x 23 columns]"
      ]
     },
     "metadata": {},
     "output_type": "display_data"
    }
   ],
   "source": [
    "# Extract the month from the 'date' column\n",
    "# match_records['month'] = pd.to_datetime(match_records['date']).dt.month_name()\n",
    "\n",
    "# Create a 3-way crosstab to count matches by month, match_type, and venue\n",
    "# b = pd.crosstab(ball_records['match_no'], [ball_records['ballnumber'], ball_records['match_type']])\n",
    "\n",
    "# runs_vs_ball = pd.crosstab(ball_records['match_no'], [ball_records['inningno'], ball_records['outcome']])\n",
    "\n",
    "ball_vs_outcome = pd.crosstab(ball_records['match_no'], [ball_records['outcome']])\n",
    "ball_vs_outcome\n",
    "\n",
    "print(f\"Ball vs outcome in each match is:\\n\")\n",
    "display(ball_vs_outcome)\n",
    "\n",
    "# runs_vs_ball['Total'] = runs_vs_ball.sum(axis=1)\n",
    "# runs_vs_ball.head()"
   ]
  },
  {
   "cell_type": "markdown",
   "id": "55afda0c",
   "metadata": {},
   "source": [
    "## Count of diffrent scores in each match"
   ]
  },
  {
   "cell_type": "code",
   "execution_count": 109,
   "id": "87d831cf",
   "metadata": {},
   "outputs": [
    {
     "name": "stdout",
     "output_type": "stream",
     "text": [
      "Count of diffrent scores in each match are:\n",
      "\n"
     ]
    },
    {
     "data": {
      "text/html": [
       "<div>\n",
       "<style scoped>\n",
       "    .dataframe tbody tr th:only-of-type {\n",
       "        vertical-align: middle;\n",
       "    }\n",
       "\n",
       "    .dataframe tbody tr th {\n",
       "        vertical-align: top;\n",
       "    }\n",
       "\n",
       "    .dataframe thead th {\n",
       "        text-align: right;\n",
       "    }\n",
       "</style>\n",
       "<table border=\"1\" class=\"dataframe\">\n",
       "  <thead>\n",
       "    <tr style=\"text-align: right;\">\n",
       "      <th>score</th>\n",
       "      <th>0</th>\n",
       "      <th>1</th>\n",
       "      <th>2</th>\n",
       "      <th>3</th>\n",
       "      <th>4</th>\n",
       "      <th>5</th>\n",
       "      <th>6</th>\n",
       "      <th>7</th>\n",
       "    </tr>\n",
       "    <tr>\n",
       "      <th>match_no</th>\n",
       "      <th></th>\n",
       "      <th></th>\n",
       "      <th></th>\n",
       "      <th></th>\n",
       "      <th></th>\n",
       "      <th></th>\n",
       "      <th></th>\n",
       "      <th></th>\n",
       "    </tr>\n",
       "  </thead>\n",
       "  <tbody>\n",
       "    <tr>\n",
       "      <th>1</th>\n",
       "      <td>82</td>\n",
       "      <td>100</td>\n",
       "      <td>13</td>\n",
       "      <td>0</td>\n",
       "      <td>27</td>\n",
       "      <td>0</td>\n",
       "      <td>21</td>\n",
       "      <td>0</td>\n",
       "    </tr>\n",
       "    <tr>\n",
       "      <th>2</th>\n",
       "      <td>76</td>\n",
       "      <td>81</td>\n",
       "      <td>19</td>\n",
       "      <td>0</td>\n",
       "      <td>29</td>\n",
       "      <td>1</td>\n",
       "      <td>15</td>\n",
       "      <td>1</td>\n",
       "    </tr>\n",
       "    <tr>\n",
       "      <th>3</th>\n",
       "      <td>92</td>\n",
       "      <td>98</td>\n",
       "      <td>21</td>\n",
       "      <td>1</td>\n",
       "      <td>20</td>\n",
       "      <td>1</td>\n",
       "      <td>18</td>\n",
       "      <td>0</td>\n",
       "    </tr>\n",
       "    <tr>\n",
       "      <th>4</th>\n",
       "      <td>93</td>\n",
       "      <td>91</td>\n",
       "      <td>19</td>\n",
       "      <td>2</td>\n",
       "      <td>30</td>\n",
       "      <td>0</td>\n",
       "      <td>12</td>\n",
       "      <td>1</td>\n",
       "    </tr>\n",
       "    <tr>\n",
       "      <th>5</th>\n",
       "      <td>86</td>\n",
       "      <td>81</td>\n",
       "      <td>19</td>\n",
       "      <td>0</td>\n",
       "      <td>26</td>\n",
       "      <td>0</td>\n",
       "      <td>20</td>\n",
       "      <td>0</td>\n",
       "    </tr>\n",
       "    <tr>\n",
       "      <th>...</th>\n",
       "      <td>...</td>\n",
       "      <td>...</td>\n",
       "      <td>...</td>\n",
       "      <td>...</td>\n",
       "      <td>...</td>\n",
       "      <td>...</td>\n",
       "      <td>...</td>\n",
       "      <td>...</td>\n",
       "    </tr>\n",
       "    <tr>\n",
       "      <th>70</th>\n",
       "      <td>64</td>\n",
       "      <td>110</td>\n",
       "      <td>19</td>\n",
       "      <td>0</td>\n",
       "      <td>42</td>\n",
       "      <td>0</td>\n",
       "      <td>13</td>\n",
       "      <td>0</td>\n",
       "    </tr>\n",
       "    <tr>\n",
       "      <th>71</th>\n",
       "      <td>80</td>\n",
       "      <td>111</td>\n",
       "      <td>25</td>\n",
       "      <td>2</td>\n",
       "      <td>27</td>\n",
       "      <td>0</td>\n",
       "      <td>9</td>\n",
       "      <td>0</td>\n",
       "    </tr>\n",
       "    <tr>\n",
       "      <th>72</th>\n",
       "      <td>89</td>\n",
       "      <td>89</td>\n",
       "      <td>13</td>\n",
       "      <td>0</td>\n",
       "      <td>27</td>\n",
       "      <td>0</td>\n",
       "      <td>10</td>\n",
       "      <td>0</td>\n",
       "    </tr>\n",
       "    <tr>\n",
       "      <th>73</th>\n",
       "      <td>65</td>\n",
       "      <td>103</td>\n",
       "      <td>18</td>\n",
       "      <td>1</td>\n",
       "      <td>34</td>\n",
       "      <td>1</td>\n",
       "      <td>20</td>\n",
       "      <td>0</td>\n",
       "    </tr>\n",
       "    <tr>\n",
       "      <th>74</th>\n",
       "      <td>43</td>\n",
       "      <td>99</td>\n",
       "      <td>24</td>\n",
       "      <td>0</td>\n",
       "      <td>31</td>\n",
       "      <td>0</td>\n",
       "      <td>19</td>\n",
       "      <td>0</td>\n",
       "    </tr>\n",
       "  </tbody>\n",
       "</table>\n",
       "<p>74 rows × 8 columns</p>\n",
       "</div>"
      ],
      "text/plain": [
       "score      0    1   2  3   4  5   6  7\n",
       "match_no                              \n",
       "1         82  100  13  0  27  0  21  0\n",
       "2         76   81  19  0  29  1  15  1\n",
       "3         92   98  21  1  20  1  18  0\n",
       "4         93   91  19  2  30  0  12  1\n",
       "5         86   81  19  0  26  0  20  0\n",
       "...       ..  ...  .. ..  .. ..  .. ..\n",
       "70        64  110  19  0  42  0  13  0\n",
       "71        80  111  25  2  27  0   9  0\n",
       "72        89   89  13  0  27  0  10  0\n",
       "73        65  103  18  1  34  1  20  0\n",
       "74        43   99  24  0  31  0  19  0\n",
       "\n",
       "[74 rows x 8 columns]"
      ]
     },
     "execution_count": 109,
     "metadata": {},
     "output_type": "execute_result"
    }
   ],
   "source": [
    "runs_vs_ball = pd.crosstab(ball_records['match_no'], [ ball_records['score']])\n",
    "runs_vs_ball\n",
    "print(f\"Count of diffrent scores in each match are:\\n\")\n",
    "runs_vs_ball"
   ]
  },
  {
   "cell_type": "code",
   "execution_count": 110,
   "id": "89796cc0",
   "metadata": {},
   "outputs": [],
   "source": [
    "# ball_records.head()"
   ]
  },
  {
   "cell_type": "markdown",
   "id": "2dc1ec7b",
   "metadata": {},
   "source": [
    "## Total scores w.r.t matches and innings"
   ]
  },
  {
   "cell_type": "code",
   "execution_count": 112,
   "id": "2717a2ef",
   "metadata": {},
   "outputs": [
    {
     "name": "stdout",
     "output_type": "stream",
     "text": [
      "Total scores w.r.t matches and innings are:\n",
      "\n"
     ]
    },
    {
     "data": {
      "text/html": [
       "<div>\n",
       "<style scoped>\n",
       "    .dataframe tbody tr th:only-of-type {\n",
       "        vertical-align: middle;\n",
       "    }\n",
       "\n",
       "    .dataframe tbody tr th {\n",
       "        vertical-align: top;\n",
       "    }\n",
       "\n",
       "    .dataframe thead th {\n",
       "        text-align: right;\n",
       "    }\n",
       "</style>\n",
       "<table border=\"1\" class=\"dataframe\">\n",
       "  <thead>\n",
       "    <tr style=\"text-align: right;\">\n",
       "      <th>inningno</th>\n",
       "      <th>1</th>\n",
       "      <th>2</th>\n",
       "      <th>Total</th>\n",
       "    </tr>\n",
       "    <tr>\n",
       "      <th>match_no</th>\n",
       "      <th></th>\n",
       "      <th></th>\n",
       "      <th></th>\n",
       "    </tr>\n",
       "  </thead>\n",
       "  <tbody>\n",
       "    <tr>\n",
       "      <th>1</th>\n",
       "      <td>178.0</td>\n",
       "      <td>182.0</td>\n",
       "      <td>360.0</td>\n",
       "    </tr>\n",
       "    <tr>\n",
       "      <th>2</th>\n",
       "      <td>191.0</td>\n",
       "      <td>146.0</td>\n",
       "      <td>337.0</td>\n",
       "    </tr>\n",
       "    <tr>\n",
       "      <th>3</th>\n",
       "      <td>193.0</td>\n",
       "      <td>143.0</td>\n",
       "      <td>336.0</td>\n",
       "    </tr>\n",
       "    <tr>\n",
       "      <th>4</th>\n",
       "      <td>203.0</td>\n",
       "      <td>131.0</td>\n",
       "      <td>334.0</td>\n",
       "    </tr>\n",
       "    <tr>\n",
       "      <th>5</th>\n",
       "      <td>171.0</td>\n",
       "      <td>172.0</td>\n",
       "      <td>343.0</td>\n",
       "    </tr>\n",
       "    <tr>\n",
       "      <th>...</th>\n",
       "      <td>...</td>\n",
       "      <td>...</td>\n",
       "      <td>...</td>\n",
       "    </tr>\n",
       "    <tr>\n",
       "      <th>70</th>\n",
       "      <td>196.0</td>\n",
       "      <td>198.0</td>\n",
       "      <td>394.0</td>\n",
       "    </tr>\n",
       "    <tr>\n",
       "      <th>71</th>\n",
       "      <td>172.0</td>\n",
       "      <td>157.0</td>\n",
       "      <td>329.0</td>\n",
       "    </tr>\n",
       "    <tr>\n",
       "      <th>72</th>\n",
       "      <td>182.0</td>\n",
       "      <td>101.0</td>\n",
       "      <td>283.0</td>\n",
       "    </tr>\n",
       "    <tr>\n",
       "      <th>73</th>\n",
       "      <td>232.0</td>\n",
       "      <td>171.0</td>\n",
       "      <td>403.0</td>\n",
       "    </tr>\n",
       "    <tr>\n",
       "      <th>74</th>\n",
       "      <td>211.0</td>\n",
       "      <td>174.0</td>\n",
       "      <td>385.0</td>\n",
       "    </tr>\n",
       "  </tbody>\n",
       "</table>\n",
       "<p>74 rows × 3 columns</p>\n",
       "</div>"
      ],
      "text/plain": [
       "inningno      1      2  Total\n",
       "match_no                     \n",
       "1         178.0  182.0  360.0\n",
       "2         191.0  146.0  337.0\n",
       "3         193.0  143.0  336.0\n",
       "4         203.0  131.0  334.0\n",
       "5         171.0  172.0  343.0\n",
       "...         ...    ...    ...\n",
       "70        196.0  198.0  394.0\n",
       "71        172.0  157.0  329.0\n",
       "72        182.0  101.0  283.0\n",
       "73        232.0  171.0  403.0\n",
       "74        211.0  174.0  385.0\n",
       "\n",
       "[74 rows x 3 columns]"
      ]
     },
     "execution_count": 112,
     "metadata": {},
     "output_type": "execute_result"
    }
   ],
   "source": [
    "# Pivot existing table\n",
    "inning_totals = ball_records.pivot_table(\n",
    "    index='match_no', columns='inningno', values='score', aggfunc='sum')\n",
    "inning_totals\n",
    "\n",
    "inning_totals['Total'] = inning_totals.sum(axis=1)\n",
    "inning_totals\n",
    "\n",
    "print(f\"Total scores w.r.t matches and innings are:\\n\")\n",
    "inning_totals"
   ]
  },
  {
   "cell_type": "code",
   "execution_count": 267,
   "id": "35bdeb26",
   "metadata": {},
   "outputs": [
    {
     "name": "stdout",
     "output_type": "stream",
     "text": [
      "Total scores w.r.t matches and innings are:\n",
      "\n"
     ]
    },
    {
     "data": {
      "text/html": [
       "<div>\n",
       "<style scoped>\n",
       "    .dataframe tbody tr th:only-of-type {\n",
       "        vertical-align: middle;\n",
       "    }\n",
       "\n",
       "    .dataframe tbody tr th {\n",
       "        vertical-align: top;\n",
       "    }\n",
       "\n",
       "    .dataframe thead th {\n",
       "        text-align: right;\n",
       "    }\n",
       "</style>\n",
       "<table border=\"1\" class=\"dataframe\">\n",
       "  <thead>\n",
       "    <tr style=\"text-align: right;\">\n",
       "      <th></th>\n",
       "      <th>Inning 1</th>\n",
       "      <th>Inning 2</th>\n",
       "      <th>Total</th>\n",
       "    </tr>\n",
       "    <tr>\n",
       "      <th>match_no</th>\n",
       "      <th></th>\n",
       "      <th></th>\n",
       "      <th></th>\n",
       "    </tr>\n",
       "  </thead>\n",
       "  <tbody>\n",
       "    <tr>\n",
       "      <th>1</th>\n",
       "      <td>178.0</td>\n",
       "      <td>182.0</td>\n",
       "      <td>360.0</td>\n",
       "    </tr>\n",
       "    <tr>\n",
       "      <th>2</th>\n",
       "      <td>191.0</td>\n",
       "      <td>146.0</td>\n",
       "      <td>337.0</td>\n",
       "    </tr>\n",
       "    <tr>\n",
       "      <th>3</th>\n",
       "      <td>193.0</td>\n",
       "      <td>143.0</td>\n",
       "      <td>336.0</td>\n",
       "    </tr>\n",
       "    <tr>\n",
       "      <th>4</th>\n",
       "      <td>203.0</td>\n",
       "      <td>131.0</td>\n",
       "      <td>334.0</td>\n",
       "    </tr>\n",
       "    <tr>\n",
       "      <th>5</th>\n",
       "      <td>171.0</td>\n",
       "      <td>172.0</td>\n",
       "      <td>343.0</td>\n",
       "    </tr>\n",
       "    <tr>\n",
       "      <th>...</th>\n",
       "      <td>...</td>\n",
       "      <td>...</td>\n",
       "      <td>...</td>\n",
       "    </tr>\n",
       "    <tr>\n",
       "      <th>70</th>\n",
       "      <td>196.0</td>\n",
       "      <td>198.0</td>\n",
       "      <td>394.0</td>\n",
       "    </tr>\n",
       "    <tr>\n",
       "      <th>71</th>\n",
       "      <td>172.0</td>\n",
       "      <td>157.0</td>\n",
       "      <td>329.0</td>\n",
       "    </tr>\n",
       "    <tr>\n",
       "      <th>72</th>\n",
       "      <td>182.0</td>\n",
       "      <td>101.0</td>\n",
       "      <td>283.0</td>\n",
       "    </tr>\n",
       "    <tr>\n",
       "      <th>73</th>\n",
       "      <td>232.0</td>\n",
       "      <td>171.0</td>\n",
       "      <td>403.0</td>\n",
       "    </tr>\n",
       "    <tr>\n",
       "      <th>74</th>\n",
       "      <td>211.0</td>\n",
       "      <td>174.0</td>\n",
       "      <td>385.0</td>\n",
       "    </tr>\n",
       "  </tbody>\n",
       "</table>\n",
       "<p>74 rows × 3 columns</p>\n",
       "</div>"
      ],
      "text/plain": [
       "          Inning 1  Inning 2  Total\n",
       "match_no                           \n",
       "1            178.0     182.0  360.0\n",
       "2            191.0     146.0  337.0\n",
       "3            193.0     143.0  336.0\n",
       "4            203.0     131.0  334.0\n",
       "5            171.0     172.0  343.0\n",
       "...            ...       ...    ...\n",
       "70           196.0     198.0  394.0\n",
       "71           172.0     157.0  329.0\n",
       "72           182.0     101.0  283.0\n",
       "73           232.0     171.0  403.0\n",
       "74           211.0     174.0  385.0\n",
       "\n",
       "[74 rows x 3 columns]"
      ]
     },
     "execution_count": 267,
     "metadata": {},
     "output_type": "execute_result"
    }
   ],
   "source": [
    "# Group by match number and inning number, then count rows\n",
    "inning_wise_balls = ball_records.groupby(['match_no', 'inningno'])['score'].sum()\n",
    "inning_wise_balls\n",
    "\n",
    "# Unstack to create separate columns for innings\n",
    "inning_wise_balls = inning_wise_balls.unstack()\n",
    "inning_wise_balls\n",
    "\n",
    "# Rename column\n",
    "inning_wise_balls.columns = [f'Inning {col}' for col in inning_wise_balls.columns]\n",
    "\n",
    "inning_wise_balls['Total'] = inning_wise_balls.sum(axis=1)\n",
    "\n",
    "print(f\"Total scores w.r.t matches and innings are:\\n\")\n",
    "inning_wise_balls"
   ]
  },
  {
   "cell_type": "markdown",
   "id": "0f8512ac",
   "metadata": {},
   "source": [
    "## Batsmen who faced most number of balls"
   ]
  },
  {
   "cell_type": "code",
   "execution_count": 121,
   "id": "6010159d",
   "metadata": {
    "scrolled": false
   },
   "outputs": [
    {
     "name": "stdout",
     "output_type": "stream",
     "text": [
      "atsmen who faced most number of balls is:\n",
      " batter\n",
      "Shubman Gill    580\n",
      "Name: count, dtype: int64\n"
     ]
    }
   ],
   "source": [
    "# Batsmen who faced most number of balls\n",
    "print(f\"Batsmen who faced most number of balls is:\\n {ball_records.batter.value_counts().head(1)}\")\n"
   ]
  },
  {
   "cell_type": "markdown",
   "id": "decf741c",
   "metadata": {},
   "source": [
    "## Batsmen who faced least number of balls"
   ]
  },
  {
   "cell_type": "code",
   "execution_count": 126,
   "id": "ba17fd11",
   "metadata": {
    "scrolled": true
   },
   "outputs": [
    {
     "name": "stdout",
     "output_type": "stream",
     "text": [
      "Batsmen who faced least number of balls is:\n",
      " batter\n",
      "Tushar Deshpande    1\n",
      "Name: count, dtype: int64\n"
     ]
    }
   ],
   "source": [
    "# Batsmen who faced least number of balls\n",
    "print(f\"Batsmen who faced least number of balls is:\\n {ball_records.batter.value_counts(ascending=True).head(1)}\")\n"
   ]
  },
  {
   "cell_type": "markdown",
   "id": "3c170f6f",
   "metadata": {},
   "source": [
    "## Bowler who bowled most number of balls"
   ]
  },
  {
   "cell_type": "code",
   "execution_count": 123,
   "id": "6617a4ce",
   "metadata": {},
   "outputs": [
    {
     "name": "stdout",
     "output_type": "stream",
     "text": [
      "Bowler who bowled most number of balls is:\n",
      " bowler\n",
      "Rashid Khan    407\n",
      "Name: count, dtype: int64\n"
     ]
    }
   ],
   "source": [
    "# Bowler who bowled most number of balls\n",
    "print(f\"Bowler who bowled most number of balls is:\\n {ball_records.bowler.value_counts().head(1)}\")\n"
   ]
  },
  {
   "cell_type": "markdown",
   "id": "9733cb1d",
   "metadata": {},
   "source": [
    "## Bowler who bowled least number of balls"
   ]
  },
  {
   "cell_type": "code",
   "execution_count": 16,
   "id": "2d17a00b",
   "metadata": {},
   "outputs": [
    {
     "name": "stdout",
     "output_type": "stream",
     "text": [
      "Bowler who bowled least number of balls is:\n",
      " bowler\n",
      "Ayush Badoni    1\n",
      "Name: count, dtype: int64\n"
     ]
    }
   ],
   "source": [
    "# Bowler who bowled least number of balls\n",
    "print(f\"Bowler who bowled least number of balls is:\\n {ball_records.bowler.value_counts(ascending=True).head(1)}\")\n"
   ]
  },
  {
   "cell_type": "markdown",
   "id": "159b2758",
   "metadata": {},
   "source": [
    "## Opening batsmans w.r.t matches"
   ]
  },
  {
   "cell_type": "code",
   "execution_count": 172,
   "id": "c1fb2fb2",
   "metadata": {
    "scrolled": true
   },
   "outputs": [
    {
     "name": "stdout",
     "output_type": "stream",
     "text": [
      "Top 5 opening batsmans w.r.t matches:\n",
      " over  batter          \n",
      "0.1   Wriddhiman Saha     19\n",
      "      Yashasvi Jaiswal    15\n",
      "      Virat Kohli         15\n",
      "      Ruturaj Gaikwad     14\n",
      "      Rohit Sharma        12\n",
      "Name: count, dtype: int64\n"
     ]
    }
   ],
   "source": [
    "# opening batsmans w.r.t matches\n",
    "\n",
    "# Convert 'overs' to string (assuming it's numeric)\n",
    "ball_records['over'] = ball_records['over'].astype(str)\n",
    "\n",
    "# Access columns and filter\n",
    "filtered_df = ball_records[['over', 'batter']]\n",
    "filtered_df = filtered_df[filtered_df['over'] == '0.1']\n",
    "\n",
    "# Print or display the result\n",
    "print(f\"Top 5 opening batsmans w.r.t matches:\\n {filtered_df.value_counts().head()}\")"
   ]
  },
  {
   "cell_type": "markdown",
   "id": "9af28881",
   "metadata": {},
   "source": [
    "## Top 5 batsmen who faced most of last ball are"
   ]
  },
  {
   "cell_type": "code",
   "execution_count": 17,
   "id": "dbaf9c3e",
   "metadata": {},
   "outputs": [
    {
     "name": "stdout",
     "output_type": "stream",
     "text": [
      "Top 5 batsmen who faced most of last ball are:\n",
      " over  batter       \n",
      "19.6  MS Dhoni         8\n",
      "      Kuldeep Yadav    7\n",
      "      Rashid Khan      5\n",
      "      Rinku Singh      5\n",
      "      Abdul Samad      4\n",
      "Name: count, dtype: int64\n"
     ]
    }
   ],
   "source": [
    "# final overs batters w.r.t matches\n",
    "\n",
    "# Convert 'overs' to string (assuming it's numeric)\n",
    "ball_records['over'] = ball_records['over'].astype(str)\n",
    "\n",
    "# Access columns and filter\n",
    "final_batter_df = ball_records[['over', 'batter']]\n",
    "final_batter_df = final_batter_df[final_batter_df['over'] == '19.6']\n",
    "\n",
    "# Print or display the result\n",
    "print(f\"Top 5 batsmen who faced most of last ball are:\\n {final_batter_df.value_counts().head()}\")"
   ]
  },
  {
   "cell_type": "markdown",
   "id": "3713e37f",
   "metadata": {},
   "source": [
    "## Top 5 opening bowlers w.r.t matches"
   ]
  },
  {
   "cell_type": "code",
   "execution_count": 170,
   "id": "d1975346",
   "metadata": {},
   "outputs": [
    {
     "name": "stdout",
     "output_type": "stream",
     "text": [
      "Top 5 opening bowlers w.r.t matches:\n",
      " over  bowler           \n",
      "0.1   Mohammed Shami       21\n",
      "      Mohammed Siraj       16\n",
      "      Bhuvneshwar Kumar    14\n",
      "      Trent Boult          12\n",
      "      Deepak Chahar        10\n",
      "Name: count, dtype: int64\n"
     ]
    }
   ],
   "source": [
    "# opening bowlers w.r.t matches\n",
    "\n",
    "# Convert 'overs' to string (assuming it's numeric)\n",
    "ball_records['over'] = ball_records['over'].astype(str)\n",
    "\n",
    "# Access columns and filter\n",
    "bowlers_df = ball_records[['over', 'bowler']]\n",
    "bowlers_df = bowlers_df[bowlers_df['over'] == '0.1']\n",
    "\n",
    "# Print or display the result\n",
    "print(f\"Top 5 opening bowlers w.r.t matches:\\n {bowlers_df.value_counts().head()}\")"
   ]
  },
  {
   "cell_type": "markdown",
   "id": "159ecd6e",
   "metadata": {},
   "source": [
    "## Top 5 last over bowlers are"
   ]
  },
  {
   "cell_type": "code",
   "execution_count": 171,
   "id": "bdbeec11",
   "metadata": {},
   "outputs": [
    {
     "name": "stdout",
     "output_type": "stream",
     "text": [
      "Top 5 death bowlers are:\n",
      " over  bowler             \n",
      "19.1  Matheesha Pathirana    12\n",
      "      Sandeep Sharma         11\n",
      "      Harshal Patel           7\n",
      "      Tushar Deshpande        6\n",
      "      Sam Curran              6\n",
      "Name: count, dtype: int64\n"
     ]
    }
   ],
   "source": [
    "# final overs bowlers w.r.t matches\n",
    "\n",
    "# Convert 'overs' to string (assuming it's numeric)\n",
    "ball_records['over'] = ball_records['over'].astype(str)\n",
    "\n",
    "# Access columns and filter\n",
    "final_bowlers_df = ball_records[['over', 'bowler']]\n",
    "final_bowlers_df = final_bowlers_df[final_bowlers_df['over'] == '19.1']\n",
    "\n",
    "# Print or display the result\n",
    "print(f\"Top 5 death bowlers are:\\n {final_bowlers_df.value_counts().head()}\")"
   ]
  },
  {
   "cell_type": "markdown",
   "id": "fc7dedf9",
   "metadata": {},
   "source": [
    "## Top 5 Bowler with their wickets"
   ]
  },
  {
   "cell_type": "code",
   "execution_count": 186,
   "id": "988a7db0",
   "metadata": {},
   "outputs": [
    {
     "name": "stdout",
     "output_type": "stream",
     "text": [
      "orange cap bowler is bowler\n",
      "Mohammed Shami    28\n",
      "Name: outcome, dtype: int64\n",
      "\n",
      "top 5 Bowler with their wickets are: \n",
      " bowler\n",
      "Mohammed Shami      28\n",
      "Rashid Khan         27\n",
      "Mohit Sharma        27\n",
      "Piyush Chawla       22\n",
      "Yuzvendra Chahal    21\n",
      "Name: outcome, dtype: int64\n",
      "\n"
     ]
    }
   ],
   "source": [
    "# Filter wickets (outcome \"w\" and not containing \"runout\" in comment)\n",
    "wickets = ball_records[(ball_records['outcome'] == 'w') & (~ball_records['comment'].str.contains('runout'))]\n",
    "\n",
    "# Group by bowler and count wickets\n",
    "bowler_wickets = wickets.groupby('bowler')['outcome'].count()\n",
    "\n",
    "# Sort by wickets descending and reset index\n",
    "bowler_wickets = bowler_wickets.sort_values(ascending=False)\n",
    "\n",
    "\n",
    "print(f\"orange cap bowler is {bowler_wickets.head(1)}\\n\")\n",
    "\n",
    "print(f\"top 5 Bowler with their wickets are: \\n {bowler_wickets.head(5)}\\n\")"
   ]
  },
  {
   "cell_type": "markdown",
   "id": "bbac3238",
   "metadata": {},
   "source": [
    "## Most dismissed batsmen"
   ]
  },
  {
   "cell_type": "code",
   "execution_count": 190,
   "id": "0dca2012",
   "metadata": {},
   "outputs": [
    {
     "name": "stdout",
     "output_type": "stream",
     "text": [
      "Batsman who got OUT for most of time was batter\n",
      "Wriddhiman Saha    16\n",
      "Name: outcome, dtype: int64\n",
      "\n",
      "Top 5 Batsman who got out are: \n",
      " batter\n",
      "Wriddhiman Saha      16\n",
      "Shubman Gill         15\n",
      "Rohit Sharma         15\n",
      "Prabhsimran Singh    14\n",
      "Ishan Kishan         14\n",
      "Name: outcome, dtype: int64\n",
      "\n"
     ]
    }
   ],
   "source": [
    "# Most dismissed batsmen\n",
    "most_out = ball_records[(ball_records['outcome'] == 'w')]\n",
    "\n",
    "# Group by bowler and count wickets\n",
    "most_out = wickets.groupby('batter')['outcome'].count()\n",
    "\n",
    "# Sort by wickets descending and reset index\n",
    "most_out = most_out.sort_values(ascending=False)\n",
    "\n",
    "\n",
    "print(f\"Batsman who got OUT for most of time was {most_out.head(1)}\\n\")\n",
    "\n",
    "print(f\"Top 5 Batsman who got out are: \\n {most_out.head(5)}\\n\")"
   ]
  },
  {
   "cell_type": "markdown",
   "id": "cfbf2e60",
   "metadata": {},
   "source": [
    "## Most 6s,4s,3s,2s,1s hit by batsmen"
   ]
  },
  {
   "cell_type": "code",
   "execution_count": 208,
   "id": "1183c656",
   "metadata": {},
   "outputs": [
    {
     "name": "stdout",
     "output_type": "stream",
     "text": [
      "Batsman who scored most 6s batter\n",
      "Faf du Plessis    36\n",
      "Name: outcome, dtype: int64\n",
      "\n",
      "Batsman who scored most 4s batter\n",
      "Shubman Gill    85\n",
      "Name: outcome, dtype: int64\n",
      "\n",
      "Batsman who scored most 3s batter\n",
      "Shubman Gill    4\n",
      "Name: outcome, dtype: int64\n",
      "\n",
      "Batsman who scored most 2s batter\n",
      "Shubman Gill    49\n",
      "Name: outcome, dtype: int64\n",
      "\n",
      "Batsman who scored most 1s batter\n",
      "Shubman Gill    247\n",
      "Name: outcome, dtype: int64\n",
      "\n",
      "Batsman who scored most 0s batter\n",
      "David Warner    151\n",
      "Name: outcome, dtype: int64\n",
      "\n"
     ]
    }
   ],
   "source": [
    "# Most 6s,4s,3s,2s,1s\n",
    "most6s = ball_records[(ball_records['score'] == 6)]\n",
    "most4s = ball_records[(ball_records['score'] == 4)]\n",
    "most3s = ball_records[(ball_records['score'] == 3)]\n",
    "most2s = ball_records[(ball_records['score'] == 2)]\n",
    "most1s = ball_records[(ball_records['score'] == 1) & (~ball_records['comment'].str.contains('wide'))]\n",
    "most0s = ball_records[(ball_records['score'] == 0)]\n",
    "                      \n",
    "# # Group by\n",
    "most6s = most6s.groupby('batter')['outcome'].count()\n",
    "most6s = most6s.sort_values(ascending=False)\n",
    "\n",
    "most4s = most4s.groupby('batter')['outcome'].count()\n",
    "most4s = most4s.sort_values(ascending=False)\n",
    "\n",
    "most3s = most3s.groupby('batter')['outcome'].count()\n",
    "most3s = most3s.sort_values(ascending=False)\n",
    "\n",
    "most2s = most2s.groupby('batter')['outcome'].count()\n",
    "most2s = most2s.sort_values(ascending=False)\n",
    "\n",
    "most1s = most1s.groupby('batter')['outcome'].count()\n",
    "most1s = most1s.sort_values(ascending=False)\n",
    "\n",
    "most0s = most0s.groupby('batter')['outcome'].count()\n",
    "most0s = most0s.sort_values(ascending=False)\n",
    "\n",
    "print(f\"Batsman who scored most 6s {most6s.head(1)}\\n\")\n",
    "print(f\"Batsman who scored most 4s {most4s.head(1)}\\n\")\n",
    "print(f\"Batsman who scored most 3s {most3s.head(1)}\\n\")\n",
    "print(f\"Batsman who scored most 2s {most2s.head(1)}\\n\")\n",
    "print(f\"Batsman who scored most 1s {most1s.head(1)}\\n\")\n",
    "print(f\"Batsman who scored most 0s {most0s.head(1)}\\n\")"
   ]
  },
  {
   "cell_type": "markdown",
   "id": "4d81a27c",
   "metadata": {},
   "source": [
    "## Most wides and no-ball bowled by bowlers"
   ]
  },
  {
   "cell_type": "code",
   "execution_count": 221,
   "id": "dee26fb2",
   "metadata": {},
   "outputs": [
    {
     "name": "stdout",
     "output_type": "stream",
     "text": [
      "Bowlers who bowled most noballs \n",
      "bowler\n",
      "Marco Jansen        5\n",
      "Harshal Patel       5\n",
      "Akash Madhwal       5\n",
      "Vaibhav Arora       4\n",
      "Tushar Deshpande    4\n",
      "Name: outcome, dtype: int64\n",
      "\n",
      "Bowlers who bowled most wides \n",
      "bowler\n",
      "Matheesha Pathirana    31\n",
      "Mohammed Siraj         27\n",
      "Tushar Deshpande       23\n",
      "Arshdeep Singh         19\n",
      "Harshal Patel          15\n",
      "Name: comment, dtype: int64\n",
      "\n"
     ]
    }
   ],
   "source": [
    "# Most wides and no-ball bowled by bowlers\n",
    "mostnbs = ball_records[(ball_records['outcome'].str.contains('nb'))]\n",
    "mostwide = ball_records[ball_records['comment'].str.contains('wide')]\n",
    "           \n",
    "# Group by\n",
    "mostnbs = mostnbs.groupby('bowler')['outcome'].count()\n",
    "mostnbs = mostnbs.sort_values(ascending=False)\n",
    "\n",
    "mostwide = mostwide.groupby('bowler')['comment'].count()\n",
    "mostwide = mostwide.sort_values(ascending=False)\n",
    "\n",
    "print(f\"Bowlers who bowled most noballs \\n{mostnbs.head()}\\n\")\n",
    "print(f\"Bowlers who bowled most wides \\n{mostwide.head()}\\n\")\n"
   ]
  },
  {
   "cell_type": "markdown",
   "id": "5afc2141",
   "metadata": {},
   "source": [
    "## Orange cap belongs to"
   ]
  },
  {
   "cell_type": "code",
   "execution_count": 235,
   "id": "c85390c8",
   "metadata": {},
   "outputs": [
    {
     "name": "stdout",
     "output_type": "stream",
     "text": [
      "orange cap for season belongs to \n",
      "batter\n",
      "Shubman Gill        894\n",
      "Faf du Plessis      727\n",
      "Devon Conway        672\n",
      "Virat Kohli         640\n",
      "Yashasvi Jaiswal    618\n",
      "Name: score, dtype: int64\n",
      "\n"
     ]
    }
   ],
   "source": [
    "# Orange cap\n",
    "\n",
    "# Filter non-dismissal deliveries (outcome not containing \"wd\")\n",
    "valid_deliveries = ball_records[~ball_records['outcome'].str.contains('wd')]\n",
    "\n",
    "# Group by batter and sum runs\n",
    "batter_runs = valid_deliveries.groupby('batter')['score'].sum()\n",
    "\n",
    "# Sort by runs descending and reset index\n",
    "top_scorers = batter_runs.sort_values(ascending=False)\n",
    "\n",
    "print(f\"orange cap for season belongs to \\n{top_scorers.head()}\\n\")"
   ]
  },
  {
   "cell_type": "markdown",
   "id": "299f34b6",
   "metadata": {},
   "source": [
    "## Purple cap belongs to"
   ]
  },
  {
   "cell_type": "code",
   "execution_count": 234,
   "id": "7a7e9ead",
   "metadata": {},
   "outputs": [
    {
     "name": "stdout",
     "output_type": "stream",
     "text": [
      "purple cap for season belongs to \n",
      "bowler\n",
      "Mohit Sharma           31\n",
      "Mohammed Shami         28\n",
      "Rashid Khan            28\n",
      "Tushar Deshpande       24\n",
      "Matheesha Pathirana    23\n",
      "Name: outcome, dtype: int64\n",
      "\n"
     ]
    }
   ],
   "source": [
    "# purple cap\n",
    "\n",
    "# Filter non-dismissal deliveries (outcome not containing \"wd\")\n",
    "bowler_wickets = ball_records[(ball_records['outcome'].str.contains('w')) & (~ball_records['outcome'].str.contains('wd'))]\n",
    "\n",
    "# Group by batter and sum runs\n",
    "bowler_wickets = bowler_wickets.groupby('bowler')['outcome'].count()\n",
    "\n",
    "# Sort by runs descending and reset index\n",
    "bowler_wickets = bowler_wickets.sort_values(ascending=False)\n",
    "\n",
    "print(f\"purple cap for season belongs to \\n{bowler_wickets.head()}\\n\")"
   ]
  },
  {
   "cell_type": "markdown",
   "id": "91f6c424",
   "metadata": {},
   "source": [
    "## Most expensive bowlers"
   ]
  },
  {
   "cell_type": "code",
   "execution_count": 242,
   "id": "7eed3084",
   "metadata": {},
   "outputs": [
    {
     "name": "stdout",
     "output_type": "stream",
     "text": [
      "top 5 expensive bowlers are \n",
      "bowler\n",
      "Tushar Deshpande    580\n",
      "Rashid Khan         557\n",
      "Mohammed Shami      532\n",
      "Piyush Chawla       497\n",
      "Sam Curran          497\n",
      "Name: score, dtype: int64\n",
      "\n"
     ]
    }
   ],
   "source": [
    "# Most expensive bowlers\n",
    "expensive_bowlers = ball_records.groupby('bowler')['score'].sum()\n",
    "\n",
    "# Sort by descending order\n",
    "expensive_bowlers = expensive_bowlers.sort_values(ascending=False)\n",
    "\n",
    "print(f\"top 5 expensive bowlers are \\n{expensive_bowlers.head()}\\n\")"
   ]
  },
  {
   "cell_type": "markdown",
   "id": "fa040dbb",
   "metadata": {},
   "source": [
    "## Strike rates of batsmen"
   ]
  },
  {
   "cell_type": "code",
   "execution_count": 18,
   "id": "011da4ee",
   "metadata": {},
   "outputs": [
    {
     "data": {
      "text/html": [
       "<div>\n",
       "<style scoped>\n",
       "    .dataframe tbody tr th:only-of-type {\n",
       "        vertical-align: middle;\n",
       "    }\n",
       "\n",
       "    .dataframe tbody tr th {\n",
       "        vertical-align: top;\n",
       "    }\n",
       "\n",
       "    .dataframe thead th {\n",
       "        text-align: right;\n",
       "    }\n",
       "</style>\n",
       "<table border=\"1\" class=\"dataframe\">\n",
       "  <thead>\n",
       "    <tr style=\"text-align: right;\">\n",
       "      <th></th>\n",
       "      <th>batter</th>\n",
       "      <th>total_runs</th>\n",
       "      <th>balls_faced</th>\n",
       "      <th>strike_rate</th>\n",
       "    </tr>\n",
       "  </thead>\n",
       "  <tbody>\n",
       "    <tr>\n",
       "      <th>0</th>\n",
       "      <td>Mohsin Khan</td>\n",
       "      <td>0</td>\n",
       "      <td>7</td>\n",
       "      <td>0.0</td>\n",
       "    </tr>\n",
       "    <tr>\n",
       "      <th>1</th>\n",
       "      <td>Darshan Nalkande</td>\n",
       "      <td>0</td>\n",
       "      <td>1</td>\n",
       "      <td>0.0</td>\n",
       "    </tr>\n",
       "    <tr>\n",
       "      <th>2</th>\n",
       "      <td>Kagiso Rabada</td>\n",
       "      <td>0</td>\n",
       "      <td>2</td>\n",
       "      <td>0.0</td>\n",
       "    </tr>\n",
       "    <tr>\n",
       "      <th>3</th>\n",
       "      <td>KM Asif</td>\n",
       "      <td>0</td>\n",
       "      <td>2</td>\n",
       "      <td>0.0</td>\n",
       "    </tr>\n",
       "    <tr>\n",
       "      <th>4</th>\n",
       "      <td>Harshit Rana</td>\n",
       "      <td>0</td>\n",
       "      <td>1</td>\n",
       "      <td>0.0</td>\n",
       "    </tr>\n",
       "    <tr>\n",
       "      <th>5</th>\n",
       "      <td>Riley Meredith</td>\n",
       "      <td>0</td>\n",
       "      <td>2</td>\n",
       "      <td>0.0</td>\n",
       "    </tr>\n",
       "    <tr>\n",
       "      <th>6</th>\n",
       "      <td>Romario Shepherd</td>\n",
       "      <td>0</td>\n",
       "      <td>1</td>\n",
       "      <td>0.0</td>\n",
       "    </tr>\n",
       "    <tr>\n",
       "      <th>7</th>\n",
       "      <td>Rahul Chahar</td>\n",
       "      <td>1</td>\n",
       "      <td>10</td>\n",
       "      <td>10.0</td>\n",
       "    </tr>\n",
       "    <tr>\n",
       "      <th>8</th>\n",
       "      <td>Nathan Ellis</td>\n",
       "      <td>1</td>\n",
       "      <td>7</td>\n",
       "      <td>14.3</td>\n",
       "    </tr>\n",
       "    <tr>\n",
       "      <th>9</th>\n",
       "      <td>Fazalhaq Farooqi</td>\n",
       "      <td>1</td>\n",
       "      <td>5</td>\n",
       "      <td>20.0</td>\n",
       "    </tr>\n",
       "  </tbody>\n",
       "</table>\n",
       "</div>"
      ],
      "text/plain": [
       "             batter  total_runs  balls_faced  strike_rate\n",
       "0       Mohsin Khan           0            7          0.0\n",
       "1  Darshan Nalkande           0            1          0.0\n",
       "2     Kagiso Rabada           0            2          0.0\n",
       "3           KM Asif           0            2          0.0\n",
       "4      Harshit Rana           0            1          0.0\n",
       "5    Riley Meredith           0            2          0.0\n",
       "6  Romario Shepherd           0            1          0.0\n",
       "7      Rahul Chahar           1           10         10.0\n",
       "8      Nathan Ellis           1            7         14.3\n",
       "9  Fazalhaq Farooqi           1            5         20.0"
      ]
     },
     "execution_count": 18,
     "metadata": {},
     "output_type": "execute_result"
    }
   ],
   "source": [
    "# Group by batter, calculate total runs and balls faced\n",
    "batter_stats = ball_records.groupby('batter')[['score', 'match_no']].agg(\n",
    "    total_runs=('score', 'sum'),\n",
    "    balls_faced=('match_no', 'count')\n",
    ")\n",
    "\n",
    "# Calculate strike rate (assuming one row per ball)\n",
    "batter_stats['strike_rate'] = ((batter_stats['total_runs'] / batter_stats['balls_faced']) * 100).round(1)\n",
    "\n",
    "# Sort by descending order\n",
    "batter_stats = batter_stats.sort_values(by='strike_rate').reset_index()\n",
    "batter_stats.head(10)"
   ]
  },
  {
   "cell_type": "markdown",
   "id": "22db454e",
   "metadata": {},
   "source": [
    "## Bowlers economy"
   ]
  },
  {
   "cell_type": "code",
   "execution_count": 305,
   "id": "c17338a2",
   "metadata": {},
   "outputs": [
    {
     "data": {
      "text/html": [
       "<div>\n",
       "<style scoped>\n",
       "    .dataframe tbody tr th:only-of-type {\n",
       "        vertical-align: middle;\n",
       "    }\n",
       "\n",
       "    .dataframe tbody tr th {\n",
       "        vertical-align: top;\n",
       "    }\n",
       "\n",
       "    .dataframe thead th {\n",
       "        text-align: right;\n",
       "    }\n",
       "</style>\n",
       "<table border=\"1\" class=\"dataframe\">\n",
       "  <thead>\n",
       "    <tr style=\"text-align: right;\">\n",
       "      <th></th>\n",
       "      <th>bowler</th>\n",
       "      <th>total_runs_given</th>\n",
       "      <th>balls_bowled</th>\n",
       "      <th>economy</th>\n",
       "    </tr>\n",
       "  </thead>\n",
       "  <tbody>\n",
       "    <tr>\n",
       "      <th>0</th>\n",
       "      <td>Ben S</td>\n",
       "      <td>18</td>\n",
       "      <td>6</td>\n",
       "      <td>300.0</td>\n",
       "    </tr>\n",
       "    <tr>\n",
       "      <th>1</th>\n",
       "      <td>Mohit Rathee</td>\n",
       "      <td>29</td>\n",
       "      <td>12</td>\n",
       "      <td>241.7</td>\n",
       "    </tr>\n",
       "    <tr>\n",
       "      <th>2</th>\n",
       "      <td>Kulwant Khejroliya</td>\n",
       "      <td>64</td>\n",
       "      <td>28</td>\n",
       "      <td>228.6</td>\n",
       "    </tr>\n",
       "    <tr>\n",
       "      <th>3</th>\n",
       "      <td>Shahbaz Ahmed</td>\n",
       "      <td>95</td>\n",
       "      <td>42</td>\n",
       "      <td>226.2</td>\n",
       "    </tr>\n",
       "    <tr>\n",
       "      <th>4</th>\n",
       "      <td>Liam Livings</td>\n",
       "      <td>94</td>\n",
       "      <td>42</td>\n",
       "      <td>223.8</td>\n",
       "    </tr>\n",
       "    <tr>\n",
       "      <th>5</th>\n",
       "      <td>Tim Southee</td>\n",
       "      <td>79</td>\n",
       "      <td>36</td>\n",
       "      <td>219.4</td>\n",
       "    </tr>\n",
       "    <tr>\n",
       "      <th>6</th>\n",
       "      <td>Murugan Ashwin</td>\n",
       "      <td>53</td>\n",
       "      <td>25</td>\n",
       "      <td>212.0</td>\n",
       "    </tr>\n",
       "    <tr>\n",
       "      <th>7</th>\n",
       "      <td>David Wiese</td>\n",
       "      <td>38</td>\n",
       "      <td>18</td>\n",
       "      <td>211.1</td>\n",
       "    </tr>\n",
       "    <tr>\n",
       "      <th>8</th>\n",
       "      <td>Kartik Tyagi</td>\n",
       "      <td>92</td>\n",
       "      <td>44</td>\n",
       "      <td>209.1</td>\n",
       "    </tr>\n",
       "    <tr>\n",
       "      <th>9</th>\n",
       "      <td>Gurnoor Brar</td>\n",
       "      <td>42</td>\n",
       "      <td>21</td>\n",
       "      <td>200.0</td>\n",
       "    </tr>\n",
       "  </tbody>\n",
       "</table>\n",
       "</div>"
      ],
      "text/plain": [
       "               bowler  total_runs_given  balls_bowled  economy\n",
       "0               Ben S                18             6    300.0\n",
       "1        Mohit Rathee                29            12    241.7\n",
       "2  Kulwant Khejroliya                64            28    228.6\n",
       "3       Shahbaz Ahmed                95            42    226.2\n",
       "4        Liam Livings                94            42    223.8\n",
       "5         Tim Southee                79            36    219.4\n",
       "6      Murugan Ashwin                53            25    212.0\n",
       "7         David Wiese                38            18    211.1\n",
       "8        Kartik Tyagi                92            44    209.1\n",
       "9        Gurnoor Brar                42            21    200.0"
      ]
     },
     "execution_count": 305,
     "metadata": {},
     "output_type": "execute_result"
    }
   ],
   "source": [
    "# Group by batter, calculate total runs and balls faced\n",
    "bowler_stats = ball_records.groupby('bowler')[['score', 'match_no']].agg(\n",
    "    total_runs_given=('score', 'sum'),\n",
    "    balls_bowled=('match_no', 'count')\n",
    ")\n",
    "\n",
    "# Calculate strike rate (assuming one row per ball)\n",
    "bowler_stats['economy'] = ((bowler_stats['total_runs_given'] / bowler_stats['balls_bowled']) * 100).round(1)\n",
    "\n",
    "# Sort by descending order\n",
    "bowler_stats = bowler_stats.sort_values(by='economy', ascending=False).reset_index()\n",
    "bowler_stats.head(10)"
   ]
  },
  {
   "cell_type": "markdown",
   "id": "9dc13339",
   "metadata": {},
   "source": [
    "## Overs wise wickets fall"
   ]
  },
  {
   "cell_type": "code",
   "execution_count": 119,
   "id": "a6df6424",
   "metadata": {},
   "outputs": [
    {
     "data": {
      "text/html": [
       "<div>\n",
       "<style scoped>\n",
       "    .dataframe tbody tr th:only-of-type {\n",
       "        vertical-align: middle;\n",
       "    }\n",
       "\n",
       "    .dataframe tbody tr th {\n",
       "        vertical-align: top;\n",
       "    }\n",
       "\n",
       "    .dataframe thead tr th {\n",
       "        text-align: left;\n",
       "    }\n",
       "</style>\n",
       "<table border=\"1\" class=\"dataframe\">\n",
       "  <thead>\n",
       "    <tr>\n",
       "      <th>match_no</th>\n",
       "      <th colspan=\"10\" halign=\"left\">1</th>\n",
       "      <th>...</th>\n",
       "      <th colspan=\"10\" halign=\"left\">4</th>\n",
       "    </tr>\n",
       "    <tr>\n",
       "      <th>inningno</th>\n",
       "      <th colspan=\"7\" halign=\"left\">1</th>\n",
       "      <th colspan=\"3\" halign=\"left\">2</th>\n",
       "      <th>...</th>\n",
       "      <th colspan=\"4\" halign=\"left\">1</th>\n",
       "      <th colspan=\"6\" halign=\"left\">2</th>\n",
       "    </tr>\n",
       "    <tr>\n",
       "      <th>over</th>\n",
       "      <th>2.2</th>\n",
       "      <th>5.5</th>\n",
       "      <th>7.4</th>\n",
       "      <th>12.5</th>\n",
       "      <th>17.1</th>\n",
       "      <th>17.4</th>\n",
       "      <th>18.3</th>\n",
       "      <th>3.5</th>\n",
       "      <th>9.3</th>\n",
       "      <th>12.1</th>\n",
       "      <th>...</th>\n",
       "      <th>12.3</th>\n",
       "      <th>14.1</th>\n",
       "      <th>16.1</th>\n",
       "      <th>18.3</th>\n",
       "      <th>0.3</th>\n",
       "      <th>0.5</th>\n",
       "      <th>6.6</th>\n",
       "      <th>8.2</th>\n",
       "      <th>9.3</th>\n",
       "      <th>10.6</th>\n",
       "    </tr>\n",
       "  </thead>\n",
       "  <tbody>\n",
       "    <tr>\n",
       "      <th>wickets_fallen</th>\n",
       "      <td>1</td>\n",
       "      <td>2</td>\n",
       "      <td>3</td>\n",
       "      <td>4</td>\n",
       "      <td>5</td>\n",
       "      <td>6</td>\n",
       "      <td>7</td>\n",
       "      <td>8</td>\n",
       "      <td>9</td>\n",
       "      <td>10</td>\n",
       "      <td>...</td>\n",
       "      <td>41</td>\n",
       "      <td>42</td>\n",
       "      <td>43</td>\n",
       "      <td>44</td>\n",
       "      <td>45</td>\n",
       "      <td>46</td>\n",
       "      <td>47</td>\n",
       "      <td>48</td>\n",
       "      <td>49</td>\n",
       "      <td>50</td>\n",
       "    </tr>\n",
       "  </tbody>\n",
       "</table>\n",
       "<p>1 rows × 50 columns</p>\n",
       "</div>"
      ],
      "text/plain": [
       "match_no          1                                               ...    4  \\\n",
       "inningno          1                                  2            ...    1   \n",
       "over           2.2  5.5  7.4  12.5 17.1 17.4 18.3 3.5  9.3  12.1  ... 12.3   \n",
       "wickets_fallen    1    2    3    4    5    6    7    8    9   10  ...   41   \n",
       "\n",
       "match_no                                                     \n",
       "inningno                         2                           \n",
       "over           14.1 16.1 18.3 0.3  0.5  6.6  8.2  9.3  10.6  \n",
       "wickets_fallen   42   43   44   45   46   47   48   49   50  \n",
       "\n",
       "[1 rows x 50 columns]"
      ]
     },
     "metadata": {},
     "output_type": "display_data"
    },
    {
     "name": "stdout",
     "output_type": "stream",
     "text": [
      "None\n"
     ]
    }
   ],
   "source": [
    "import pandas as pd\n",
    "\n",
    "# Assuming your data is loaded into a DataFrame named 'ball_records'\n",
    "\n",
    "# Filter wickets (outcome \"w\")\n",
    "wickets = ball_records[ball_records['outcome'] == 'w']\n",
    "\n",
    "# Create a frequency table with cumulative sum by over, inning, and match\n",
    "wickets_by_over_inning_match = (\n",
    "    wickets.groupby(['match_no', 'inningno', 'over'])['outcome']\n",
    "    .count()\n",
    "    .transform(pd.Series.cumsum)  # Calculate cumulative sum within each group\n",
    "    .to_frame('wickets_fallen')  # Add column name\n",
    "#     .reset_index()  # Convert back to DataFrame with column labels\n",
    ")\n",
    "\n",
    "# Optional: Rename levels for clarity (optional)\n",
    "# wickets_by_over_inning_match.index.names = ['Match', 'Innings', 'Over']\n",
    "\n",
    "# Print or display the result\n",
    "print(display(wickets_by_over_inning_match.head(50).T))"
   ]
  },
  {
   "cell_type": "markdown",
   "id": "497cdd93",
   "metadata": {},
   "source": [
    "## Records of ball numbers, overs and score when wikets fall"
   ]
  },
  {
   "cell_type": "code",
   "execution_count": 120,
   "id": "e1929da7",
   "metadata": {
    "scrolled": true
   },
   "outputs": [
    {
     "name": "stderr",
     "output_type": "stream",
     "text": [
      "C:\\Users\\User\\AppData\\Local\\Temp\\ipykernel_5412\\415381530.py:12: SettingWithCopyWarning: \n",
      "A value is trying to be set on a copy of a slice from a DataFrame.\n",
      "Try using .loc[row_indexer,col_indexer] = value instead\n",
      "\n",
      "See the caveats in the documentation: https://pandas.pydata.org/pandas-docs/stable/user_guide/indexing.html#returning-a-view-versus-a-copy\n",
      "  wickets['Wickets'] = (\n",
      "C:\\Users\\User\\AppData\\Local\\Temp\\ipykernel_5412\\415381530.py:19: SettingWithCopyWarning: \n",
      "A value is trying to be set on a copy of a slice from a DataFrame.\n",
      "Try using .loc[row_indexer,col_indexer] = value instead\n",
      "\n",
      "See the caveats in the documentation: https://pandas.pydata.org/pandas-docs/stable/user_guide/indexing.html#returning-a-view-versus-a-copy\n",
      "  wickets['Wickets count'] = (\n"
     ]
    },
    {
     "data": {
      "text/html": [
       "<div>\n",
       "<style scoped>\n",
       "    .dataframe tbody tr th:only-of-type {\n",
       "        vertical-align: middle;\n",
       "    }\n",
       "\n",
       "    .dataframe tbody tr th {\n",
       "        vertical-align: top;\n",
       "    }\n",
       "\n",
       "    .dataframe thead th {\n",
       "        text-align: right;\n",
       "    }\n",
       "</style>\n",
       "<table border=\"1\" class=\"dataframe\">\n",
       "  <thead>\n",
       "    <tr style=\"text-align: right;\">\n",
       "      <th></th>\n",
       "      <th>match_no</th>\n",
       "      <th>ballnumber</th>\n",
       "      <th>inningno</th>\n",
       "      <th>over</th>\n",
       "      <th>score</th>\n",
       "      <th>inning_score</th>\n",
       "      <th>Wickets</th>\n",
       "      <th>Wickets count</th>\n",
       "    </tr>\n",
       "  </thead>\n",
       "  <tbody>\n",
       "    <tr>\n",
       "      <th>13</th>\n",
       "      <td>1</td>\n",
       "      <td>14</td>\n",
       "      <td>1</td>\n",
       "      <td>2.2</td>\n",
       "      <td>0</td>\n",
       "      <td>14</td>\n",
       "      <td>w</td>\n",
       "      <td>1</td>\n",
       "    </tr>\n",
       "    <tr>\n",
       "      <th>35</th>\n",
       "      <td>1</td>\n",
       "      <td>36</td>\n",
       "      <td>1</td>\n",
       "      <td>5.5</td>\n",
       "      <td>0</td>\n",
       "      <td>50</td>\n",
       "      <td>ww</td>\n",
       "      <td>2</td>\n",
       "    </tr>\n",
       "    <tr>\n",
       "      <th>46</th>\n",
       "      <td>1</td>\n",
       "      <td>47</td>\n",
       "      <td>1</td>\n",
       "      <td>7.4</td>\n",
       "      <td>0</td>\n",
       "      <td>70</td>\n",
       "      <td>www</td>\n",
       "      <td>3</td>\n",
       "    </tr>\n",
       "    <tr>\n",
       "      <th>77</th>\n",
       "      <td>1</td>\n",
       "      <td>78</td>\n",
       "      <td>1</td>\n",
       "      <td>12.5</td>\n",
       "      <td>0</td>\n",
       "      <td>121</td>\n",
       "      <td>wwww</td>\n",
       "      <td>4</td>\n",
       "    </tr>\n",
       "    <tr>\n",
       "      <th>103</th>\n",
       "      <td>1</td>\n",
       "      <td>104</td>\n",
       "      <td>1</td>\n",
       "      <td>17.1</td>\n",
       "      <td>0</td>\n",
       "      <td>151</td>\n",
       "      <td>wwwww</td>\n",
       "      <td>5</td>\n",
       "    </tr>\n",
       "  </tbody>\n",
       "</table>\n",
       "</div>"
      ],
      "text/plain": [
       "     match_no  ballnumber  inningno  over  score  inning_score Wickets  \\\n",
       "13          1          14         1   2.2      0            14       w   \n",
       "35          1          36         1   5.5      0            50      ww   \n",
       "46          1          47         1   7.4      0            70     www   \n",
       "77          1          78         1  12.5      0           121    wwww   \n",
       "103         1         104         1  17.1      0           151   wwwww   \n",
       "\n",
       "     Wickets count  \n",
       "13               1  \n",
       "35               2  \n",
       "46               3  \n",
       "77               4  \n",
       "103              5  "
      ]
     },
     "metadata": {},
     "output_type": "display_data"
    },
    {
     "name": "stdout",
     "output_type": "stream",
     "text": [
      "None\n"
     ]
    }
   ],
   "source": [
    "# Add a new column 'inning_score' for cumulative score by inning (assuming score is already present)\n",
    "ball_records['inning_score'] = (\n",
    "    ball_records.groupby(['match_no', 'inningno'])['score']\n",
    "    .transform(pd.Series.cumsum)\n",
    ")\n",
    "\n",
    "# Filter wickets (outcome \"w\")\n",
    "wickets = ball_records[ball_records['outcome'] == 'w']\n",
    "wickets\n",
    "\n",
    "# Add a column for cumulative wicket count by inning\n",
    "wickets['Wickets'] = (\n",
    "    wickets.groupby(['match_no', 'inningno'])['outcome']\n",
    "    .transform(pd.Series.cumsum)\n",
    ")\n",
    "wickets\n",
    "\n",
    "# Count number of letters in inning_cumulative_wicket_count\n",
    "wickets['Wickets count'] = (\n",
    "    wickets['Wickets'].str.len()\n",
    ")\n",
    "wickets\n",
    "\n",
    "selected_columns = wickets.iloc[:5, [0, 1, 2, 3, 8, 9, 10,11]]  # Select columns by position\n",
    "print(display(selected_columns))"
   ]
  },
  {
   "cell_type": "markdown",
   "id": "e2711f69",
   "metadata": {},
   "source": [
    "## Extra runs contribution by bowlers"
   ]
  },
  {
   "cell_type": "code",
   "execution_count": 195,
   "id": "aa0d3541",
   "metadata": {},
   "outputs": [
    {
     "data": {
      "text/html": [
       "<div>\n",
       "<style scoped>\n",
       "    .dataframe tbody tr th:only-of-type {\n",
       "        vertical-align: middle;\n",
       "    }\n",
       "\n",
       "    .dataframe tbody tr th {\n",
       "        vertical-align: top;\n",
       "    }\n",
       "\n",
       "    .dataframe thead th {\n",
       "        text-align: right;\n",
       "    }\n",
       "</style>\n",
       "<table border=\"1\" class=\"dataframe\">\n",
       "  <thead>\n",
       "    <tr style=\"text-align: right;\">\n",
       "      <th></th>\n",
       "      <th>bowler</th>\n",
       "      <th>score</th>\n",
       "    </tr>\n",
       "  </thead>\n",
       "  <tbody>\n",
       "    <tr>\n",
       "      <th>57</th>\n",
       "      <td>Matheesha Pathirana</td>\n",
       "      <td>41</td>\n",
       "    </tr>\n",
       "    <tr>\n",
       "      <th>63</th>\n",
       "      <td>Mohammed Siraj</td>\n",
       "      <td>40</td>\n",
       "    </tr>\n",
       "    <tr>\n",
       "      <th>54</th>\n",
       "      <td>Marco Jansen</td>\n",
       "      <td>37</td>\n",
       "    </tr>\n",
       "    <tr>\n",
       "      <th>29</th>\n",
       "      <td>Harshal Patel</td>\n",
       "      <td>35</td>\n",
       "    </tr>\n",
       "    <tr>\n",
       "      <th>96</th>\n",
       "      <td>Tushar Deshpande</td>\n",
       "      <td>29</td>\n",
       "    </tr>\n",
       "    <tr>\n",
       "      <th>...</th>\n",
       "      <td>...</td>\n",
       "      <td>...</td>\n",
       "    </tr>\n",
       "    <tr>\n",
       "      <th>76</th>\n",
       "      <td>Praveen Dubey</td>\n",
       "      <td>1</td>\n",
       "    </tr>\n",
       "    <tr>\n",
       "      <th>45</th>\n",
       "      <td>Krunal Pandya</td>\n",
       "      <td>1</td>\n",
       "    </tr>\n",
       "    <tr>\n",
       "      <th>61</th>\n",
       "      <td>Moeen Ali</td>\n",
       "      <td>1</td>\n",
       "    </tr>\n",
       "    <tr>\n",
       "      <th>78</th>\n",
       "      <td>Rahul Tewatia</td>\n",
       "      <td>1</td>\n",
       "    </tr>\n",
       "    <tr>\n",
       "      <th>58</th>\n",
       "      <td>Matthew Short</td>\n",
       "      <td>1</td>\n",
       "    </tr>\n",
       "  </tbody>\n",
       "</table>\n",
       "<p>109 rows × 2 columns</p>\n",
       "</div>"
      ],
      "text/plain": [
       "                 bowler  score\n",
       "57  Matheesha Pathirana     41\n",
       "63       Mohammed Siraj     40\n",
       "54         Marco Jansen     37\n",
       "29        Harshal Patel     35\n",
       "96     Tushar Deshpande     29\n",
       "..                  ...    ...\n",
       "76        Praveen Dubey      1\n",
       "45        Krunal Pandya      1\n",
       "61            Moeen Ali      1\n",
       "78        Rahul Tewatia      1\n",
       "58        Matthew Short      1\n",
       "\n",
       "[109 rows x 2 columns]"
      ]
     },
     "execution_count": 195,
     "metadata": {},
     "output_type": "execute_result"
    }
   ],
   "source": [
    "# Extra runs contribution by bowlers\n",
    "extras_filtered = ball_records[ball_records['outcome'].isin(['1wd','2wd','3wd','4wd','5wd','6wd','7wd','1nb','2nb','3nb','4nb','5nb','6nb','7nb'])]\n",
    "extras_filtered\n",
    "\n",
    "bowler_extra = extras_filtered.groupby('bowler')['score'].sum().reset_index()\n",
    "bowler_extra_sorted = bowler_extra.sort_values(by='score', ascending=False)\n",
    "bowler_extra_sorted\n"
   ]
  },
  {
   "cell_type": "markdown",
   "id": "44cd8cdd",
   "metadata": {},
   "source": [
    "## Extra runs contribution by bowlers in match 1"
   ]
  },
  {
   "cell_type": "code",
   "execution_count": 193,
   "id": "156a005b",
   "metadata": {},
   "outputs": [
    {
     "data": {
      "text/html": [
       "<div>\n",
       "<style scoped>\n",
       "    .dataframe tbody tr th:only-of-type {\n",
       "        vertical-align: middle;\n",
       "    }\n",
       "\n",
       "    .dataframe tbody tr th {\n",
       "        vertical-align: top;\n",
       "    }\n",
       "\n",
       "    .dataframe thead th {\n",
       "        text-align: right;\n",
       "    }\n",
       "</style>\n",
       "<table border=\"1\" class=\"dataframe\">\n",
       "  <thead>\n",
       "    <tr style=\"text-align: right;\">\n",
       "      <th></th>\n",
       "      <th>bowler</th>\n",
       "      <th>score</th>\n",
       "    </tr>\n",
       "  </thead>\n",
       "  <tbody>\n",
       "    <tr>\n",
       "      <th>1</th>\n",
       "      <td>Rajvardhan Hangargekar</td>\n",
       "      <td>4</td>\n",
       "    </tr>\n",
       "    <tr>\n",
       "      <th>2</th>\n",
       "      <td>Tushar Deshpande</td>\n",
       "      <td>3</td>\n",
       "    </tr>\n",
       "    <tr>\n",
       "      <th>0</th>\n",
       "      <td>Mohammed Shami</td>\n",
       "      <td>1</td>\n",
       "    </tr>\n",
       "  </tbody>\n",
       "</table>\n",
       "</div>"
      ],
      "text/plain": [
       "                   bowler  score\n",
       "1  Rajvardhan Hangargekar      4\n",
       "2        Tushar Deshpande      3\n",
       "0          Mohammed Shami      1"
      ]
     },
     "execution_count": 193,
     "metadata": {},
     "output_type": "execute_result"
    }
   ],
   "source": [
    "# Extra runs contribution by bowlers in match 1\n",
    "extras_filtered = ball_records[ball_records['outcome'].isin(['1wd','2wd','3wd','4wd','5wd','6wd','7wd','1nb','2nb','3nb','4nb','5nb','6nb','7nb'])]\n",
    "extras_filtered\n",
    "match1filter = extras_filtered[extras_filtered['match_no'].isin([1])]\n",
    "match1filter\n",
    "\n",
    "bowler_extra = match1filter.groupby('bowler')['score'].sum().reset_index()\n",
    "\n",
    "bowler_extra_sorted = bowler_extra.sort_values(by='score', ascending=False)\n",
    "bowler_extra_sorted"
   ]
  }
 ],
 "metadata": {
  "kernelspec": {
   "display_name": "Python 3 (ipykernel)",
   "language": "python",
   "name": "python3"
  },
  "language_info": {
   "codemirror_mode": {
    "name": "ipython",
    "version": 3
   },
   "file_extension": ".py",
   "mimetype": "text/x-python",
   "name": "python",
   "nbconvert_exporter": "python",
   "pygments_lexer": "ipython3",
   "version": "3.11.5"
  }
 },
 "nbformat": 4,
 "nbformat_minor": 5
}
